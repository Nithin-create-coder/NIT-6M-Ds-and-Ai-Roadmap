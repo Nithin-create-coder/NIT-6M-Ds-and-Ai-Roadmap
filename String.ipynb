{
 "cells": [
  {
   "cell_type": "code",
   "execution_count": null,
   "id": "9cb5ea6a-baa9-4417-99aa-a459d8b1e90f",
   "metadata": {},
   "outputs": [],
   "source": [
    "# Strings \n",
    "\n"
   ]
  },
  {
   "cell_type": "code",
   "execution_count": 4,
   "id": "783b94b2-a408-415c-a217-3b993d11585b",
   "metadata": {},
   "outputs": [
    {
     "name": "stdout",
     "output_type": "stream",
     "text": [
      "nithin mattaparthi\n"
     ]
    }
   ],
   "source": [
    " first_name = 'nithin'\n",
    "last_name='mattaparthi'\n",
    "full_name=first_name + \" \" + last_name\n",
    "print(full_name)\n"
   ]
  },
  {
   "cell_type": "code",
   "execution_count": 11,
   "id": "bb8d900b-941d-455b-b0e5-14c9eaf10fe2",
   "metadata": {},
   "outputs": [
    {
     "name": "stdout",
     "output_type": "stream",
     "text": [
      "18\n"
     ]
    }
   ],
   "source": [
    "print(len(full_name))\n"
   ]
  },
  {
   "cell_type": "code",
   "execution_count": 13,
   "id": "a6859d57-4f2c-4b1a-81bd-7c640fbcc23e",
   "metadata": {},
   "outputs": [
    {
     "data": {
      "text/plain": [
       "False"
      ]
     },
     "execution_count": 13,
     "metadata": {},
     "output_type": "execute_result"
    }
   ],
   "source": [
    "len(first_name)>len(last_name)"
   ]
  },
  {
   "cell_type": "code",
   "execution_count": 15,
   "id": "1d49f8fb-e0b7-4196-9451-93b04673293d",
   "metadata": {},
   "outputs": [
    {
     "name": "stdout",
     "output_type": "stream",
     "text": [
      "n\n",
      "i\n"
     ]
    }
   ],
   "source": [
    "x='nithin'\n",
    "y=x[-1]\n",
    "z=x[-2]\n",
    "print(y)\n",
    "print(z)"
   ]
  },
  {
   "cell_type": "code",
   "execution_count": 17,
   "id": "a8e5655f-840d-486d-af64-eb90d1eacaa9",
   "metadata": {},
   "outputs": [
    {
     "name": "stdout",
     "output_type": "stream",
     "text": [
      "th\n"
     ]
    }
   ],
   "source": [
    "u=x[2:4]\n",
    "print(u)"
   ]
  },
  {
   "cell_type": "code",
   "execution_count": 19,
   "id": "576619c5-f05f-4ae7-a4c5-939a4b2f9e42",
   "metadata": {},
   "outputs": [
    {
     "name": "stdout",
     "output_type": "stream",
     "text": [
      "hin\n"
     ]
    }
   ],
   "source": [
    "u=x[-3:]\n",
    "print(u)\n"
   ]
  },
  {
   "cell_type": "code",
   "execution_count": 25,
   "id": "490b9bef-54df-47a8-afa7-7a8375c1fc62",
   "metadata": {},
   "outputs": [
    {
     "name": "stdout",
     "output_type": "stream",
     "text": [
      "pto\n"
     ]
    }
   ],
   "source": [
    "y='python'\n",
    "x=y[0:6:2]\n",
    "print(x)"
   ]
  },
  {
   "cell_type": "code",
   "execution_count": null,
   "id": "f5423c33-4ad1-4d01-9b85-53b390fa6eb8",
   "metadata": {},
   "outputs": [],
   "source": [
    "# python slicing strings\n"
   ]
  },
  {
   "cell_type": "code",
   "execution_count": 27,
   "id": "e1c79996-fb35-4c98-abe3-458d9e665b73",
   "metadata": {},
   "outputs": [
    {
     "name": "stdout",
     "output_type": "stream",
     "text": [
      "llo\n"
     ]
    }
   ],
   "source": [
    "# you can return a range of charecters by using the slice syntex\n",
    "b=\"hello world\"\n",
    "print(b[2:5])\n"
   ]
  },
  {
   "cell_type": "code",
   "execution_count": 29,
   "id": "3a7bf32c-8be5-44df-a0c5-cac3e73ce5b3",
   "metadata": {},
   "outputs": [
    {
     "name": "stdout",
     "output_type": "stream",
     "text": [
      "hello\n"
     ]
    }
   ],
   "source": [
    "# slice from the starting \n",
    "#by leaving out the start index \n",
    "b=\"hello world\"\n",
    "print(b[:5])"
   ]
  },
  {
   "cell_type": "code",
   "execution_count": 33,
   "id": "27a6b7c5-4b41-438f-923e-06ccdb780159",
   "metadata": {},
   "outputs": [
    {
     "name": "stdout",
     "output_type": "stream",
     "text": [
      "orl\n"
     ]
    }
   ],
   "source": [
    "# negative index ing \n",
    "# use negative index to start the slice from the end of the string \n",
    "b=\"hello world \"\n",
    "print(b[-5:-2])\n",
    "      "
   ]
  },
  {
   "cell_type": "code",
   "execution_count": 35,
   "id": "9d892fab-e9d0-4498-992e-86620de5fcc7",
   "metadata": {},
   "outputs": [
    {
     "name": "stdout",
     "output_type": "stream",
     "text": [
      " dlrow olleh\n"
     ]
    }
   ],
   "source": [
    "b=\"hello world \"\n",
    "print(b[::-1])"
   ]
  },
  {
   "cell_type": "code",
   "execution_count": 37,
   "id": "ce638115-254c-4c5d-930d-b2002cf16cac",
   "metadata": {},
   "outputs": [
    {
     "name": "stdout",
     "output_type": "stream",
     "text": [
      "el o\n"
     ]
    }
   ],
   "source": [
    "print(b[1:9:2])"
   ]
  },
  {
   "cell_type": "code",
   "execution_count": null,
   "id": "aa32709f-6e2b-439a-ad1f-74b51b525684",
   "metadata": {},
   "outputs": [],
   "source": [
    "# python modify strings \n",
    "python is a set of built in methods that you can use on string \n"
   ]
  },
  {
   "cell_type": "code",
   "execution_count": null,
   "id": "ca86fc3a-a1c5-4f69-b0ad-725bc47f26fd",
   "metadata": {},
   "outputs": [],
   "source": [
    "# upper casse \n"
   ]
  },
  {
   "cell_type": "code",
   "execution_count": 39,
   "id": "b33c79d0-69da-4f9d-adec-c9c1904bf3b8",
   "metadata": {},
   "outputs": [
    {
     "name": "stdout",
     "output_type": "stream",
     "text": [
      " HELLO WORLS\n"
     ]
    }
   ],
   "source": [
    "a = \" hello worls\"\n",
    "print(a.upper())"
   ]
  },
  {
   "cell_type": "code",
   "execution_count": 41,
   "id": "7aa4bdbd-14d3-4ab3-860f-fa81b1abc03d",
   "metadata": {},
   "outputs": [
    {
     "name": "stdout",
     "output_type": "stream",
     "text": [
      "nirhin\n"
     ]
    }
   ],
   "source": [
    "#lower case \n",
    "a=\"nirhin\"\n",
    "print(a.lower())"
   ]
  },
  {
   "cell_type": "code",
   "execution_count": null,
   "id": "649a7807-4592-4181-9ea6-c660a2bfeddf",
   "metadata": {},
   "outputs": [],
   "source": [
    "# Remove white space \n",
    "white space before and or after the actual text and very often you want to remove\n"
   ]
  },
  {
   "cell_type": "code",
   "execution_count": 43,
   "id": "676c37e6-9199-409b-a258-f52f5efe60b1",
   "metadata": {},
   "outputs": [
    {
     "name": "stdout",
     "output_type": "stream",
     "text": [
      "hallo wedn jebv\n"
     ]
    }
   ],
   "source": [
    "#  strip()\n",
    "a='hallo wedn jebv'\n",
    "print(a.strip())"
   ]
  },
  {
   "cell_type": "code",
   "execution_count": null,
   "id": "071e7ad6-0b46-45b3-af3b-a1a954be5fd4",
   "metadata": {},
   "outputs": [],
   "source": [
    "# Replace string \n",
    "replace() method replace a string with another string\n"
   ]
  },
  {
   "cell_type": "code",
   "execution_count": 45,
   "id": "9edb66d2-0533-4eb4-b25c-029cdd4d9f62",
   "metadata": {},
   "outputs": [
    {
     "name": "stdout",
     "output_type": "stream",
     "text": [
      "ralo world\n"
     ]
    }
   ],
   "source": [
    "a ='halo world'\n",
    "print(a.replace('h','r'))"
   ]
  },
  {
   "cell_type": "code",
   "execution_count": null,
   "id": "d041cd66-c823-4ece-b86c-807e33d4cfc4",
   "metadata": {},
   "outputs": [],
   "source": [
    "# Concatenation \n",
    "string contenation\n"
   ]
  },
  {
   "cell_type": "code",
   "execution_count": 47,
   "id": "271652df-e5bf-42b8-bea9-472068510c53",
   "metadata": {},
   "outputs": [
    {
     "name": "stdout",
     "output_type": "stream",
     "text": [
      "halloworld\n"
     ]
    }
   ],
   "source": [
    "a='hallo'\n",
    "b='world'\n",
    "print(a + b)"
   ]
  },
  {
   "cell_type": "code",
   "execution_count": null,
   "id": "0fe6bae5-6b54-4e75-825b-1cc659249870",
   "metadata": {},
   "outputs": [],
   "source": [
    "# for space between  them use  \" \" "
   ]
  },
  {
   "cell_type": "code",
   "execution_count": 49,
   "id": "77759314-c71d-4acc-a080-3112fb73016c",
   "metadata": {},
   "outputs": [
    {
     "name": "stdout",
     "output_type": "stream",
     "text": [
      "hallo world\n"
     ]
    }
   ],
   "source": [
    "a='hallo'\n",
    "b='world'\n",
    "print(a + ' ' + b)"
   ]
  },
  {
   "cell_type": "code",
   "execution_count": null,
   "id": "29f1fcc5-2a1d-44a9-a1ad-09c84d84e690",
   "metadata": {},
   "outputs": [],
   "source": [
    "# STRING FORMAT \n"
   ]
  },
  {
   "cell_type": "code",
   "execution_count": 51,
   "id": "68e1a756-628a-4bf2-b6c4-bc2d1a7b2e79",
   "metadata": {},
   "outputs": [
    {
     "ename": "TypeError",
     "evalue": "can only concatenate str (not \"int\") to str",
     "output_type": "error",
     "traceback": [
      "\u001b[1;31m---------------------------------------------------------------------------\u001b[0m",
      "\u001b[1;31mTypeError\u001b[0m                                 Traceback (most recent call last)",
      "Cell \u001b[1;32mIn[51], line 3\u001b[0m\n\u001b[0;32m      1\u001b[0m age \u001b[38;5;241m=\u001b[39m\u001b[38;5;241m34\u001b[39m\n\u001b[0;32m      2\u001b[0m x\u001b[38;5;241m=\u001b[39m\u001b[38;5;124m\"\u001b[39m\u001b[38;5;124msdivb\u001b[39m\u001b[38;5;124m\"\u001b[39m\n\u001b[1;32m----> 3\u001b[0m \u001b[38;5;28mprint\u001b[39m(x \u001b[38;5;241m+\u001b[39m age )\n",
      "\u001b[1;31mTypeError\u001b[0m: can only concatenate str (not \"int\") to str"
     ]
    }
   ],
   "source": [
    "age =34\n",
    "x=\"sdivb\"\n",
    "print(x + age )     # we cant not merge the num with string then we can use format string\n"
   ]
  },
  {
   "cell_type": "code",
   "execution_count": 53,
   "id": "3745400d-aba9-44c7-ad60-63973dbac564",
   "metadata": {},
   "outputs": [
    {
     "name": "stdout",
     "output_type": "stream",
     "text": [
      "hi this is nithin my  age is 23\n"
     ]
    }
   ],
   "source": [
    "age = 23\n",
    "print(f'hi this is nithin my  age is {age }') "
   ]
  },
  {
   "cell_type": "code",
   "execution_count": 55,
   "id": "f06abc8e-9e4f-49d1-9164-2ec2804a9552",
   "metadata": {},
   "outputs": [
    {
     "name": "stdout",
     "output_type": "stream",
     "text": [
      "hi tuewhui1035 jdfb\n"
     ]
    }
   ],
   "source": [
    "x=f'hi tuewhui{ 23*45} jdfb'\n",
    "print(x)"
   ]
  },
  {
   "cell_type": "code",
   "execution_count": null,
   "id": "d093b451-b6bb-485a-ac36-c54b6819288c",
   "metadata": {},
   "outputs": [],
   "source": [
    "# Escpe characters \n",
    "\\t - new tab \n",
    "\\n - new line\n",
    "\n"
   ]
  },
  {
   "cell_type": "code",
   "execution_count": 59,
   "id": "28e8f3fc-0eaf-4366-985a-37a52135c42e",
   "metadata": {},
   "outputs": [
    {
     "name": "stdout",
     "output_type": "stream",
     "text": [
      "hallo\n",
      "world\n"
     ]
    }
   ],
   "source": [
    "a='hallo\\nworld'\n",
    "print(a)"
   ]
  },
  {
   "cell_type": "code",
   "execution_count": null,
   "id": "3a9ed2fb-c447-4f98-b99a-026ded8f4a29",
   "metadata": {},
   "outputs": [],
   "source": [
    "Method\tDescription\n",
    "capitalize()\tConverts the first character to upper case\n",
    "casefold()\tConverts string into lower case\n",
    "center()\tReturns a centered string\n",
    "count()\tReturns the number of times a specified value occurs in a string\n",
    "encode()\tReturns an encoded version of the string\n",
    "endswith()\tReturns true if the string ends with the specified value\n",
    "expandtabs()\tSets the tab size of the string\n",
    "find()\tSearches the string for a specified value and returns the position of where it was found\n",
    "format()\tFormats specified values in a string\n",
    "format_map()\tFormats specified values in a string\n",
    "index()\tSearches the string for a specified value and returns the position of where it was found\n",
    "isalnum()\tReturns True if all characters in the string are alphanumeric\n",
    "isalpha()\tReturns True if all characters in the string are in the alphabet\n",
    "isascii()\tReturns True if all characters in the string are ascii characters\n",
    "isdecimal()\tReturns True if all characters in the string are decimals\n",
    "isdigit()\tReturns True if all characters in the string are digits\n",
    "isidentifier()\tReturns True if the string is an identifier\n",
    "islower()\tReturns True if all characters in the string are lower case\n",
    "isnumeric()\tReturns True if all characters in the string are numeric\n",
    "isprintable()\tReturns True if all characters in the string are printable\n",
    "isspace()\tReturns True if all characters in the string are whitespaces\n",
    "istitle()\tReturns True if the string follows the rules of a title\n",
    "isupper()\tReturns True if all characters in the string are upper case\n",
    "join()\tJoins the elements of an iterable to the end of the string\n",
    "ljust()\tReturns a left justified version of the string\n",
    "lower()\tConverts a string into lower case\n",
    "lstrip()\tReturns a left trim version of the string\n",
    "maketrans()\tReturns a translation table to be used in translations\n",
    "partition()\tReturns a tuple where the string is parted into three parts\n",
    "replace()\tReturns a string where a specified value is replaced with a specified value\n",
    "rfind()\tSearches the string for a specified value and returns the last position of where it was found\n",
    "rindex()\tSearches the string for a specified value and returns the last position of where it was found\n",
    "rjust()\tReturns a right justified version of the string\n",
    "rpartition()\tReturns a tuple where the string is parted into three parts\n",
    "rsplit()\tSplits the string at the specified separator, and returns a list\n",
    "rstrip()\tReturns a right trim version of the string\n",
    "split()\tSplits the string at the specified separator, and returns a list\n",
    "splitlines()\tSplits the string at line breaks and returns a list\n",
    "startswith()\tReturns true if the string starts with the specified value\n",
    "strip()\tReturns a trimmed version of the string\n",
    "swapcase()\tSwaps cases, lower case becomes upper case and vice versa\n",
    "title()\tConverts the first character of each word to upper case\n",
    "translate()\tReturns a translated string\n",
    "upper()\tConverts a string into upper case\n",
    "zfill()\tFills the string with a specified number of 0 values at the beginning"
   ]
  }
 ],
 "metadata": {
  "kernelspec": {
   "display_name": "Python [conda env:base] *",
   "language": "python",
   "name": "conda-base-py"
  },
  "language_info": {
   "codemirror_mode": {
    "name": "ipython",
    "version": 3
   },
   "file_extension": ".py",
   "mimetype": "text/x-python",
   "name": "python",
   "nbconvert_exporter": "python",
   "pygments_lexer": "ipython3",
   "version": "3.12.7"
  }
 },
 "nbformat": 4,
 "nbformat_minor": 5
}
