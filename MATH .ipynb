{
 "cells": [
  {
   "cell_type": "code",
   "execution_count": 1,
   "id": "49d3a3ca-2375-415a-af40-316023a09775",
   "metadata": {},
   "outputs": [
    {
     "data": {
      "text/plain": [
       "17.502307845873887"
      ]
     },
     "execution_count": 1,
     "metadata": {},
     "output_type": "execute_result"
    }
   ],
   "source": [
    "import math \n",
    "x=math.lgamma(12)\n",
    "x"
   ]
  },
  {
   "cell_type": "code",
   "execution_count": 3,
   "id": "cde60ce4-7e83-4ac2-8d63-42cdb6a2c067",
   "metadata": {},
   "outputs": [
    {
     "data": {
      "text/plain": [
       "5.0"
      ]
     },
     "execution_count": 3,
     "metadata": {},
     "output_type": "execute_result"
    }
   ],
   "source": [
    "import numpy \n",
    "x=math.sqrt(25)\n",
    "x"
   ]
  },
  {
   "cell_type": "code",
   "execution_count": null,
   "id": "6b388d5a-803a-4b87-9c60-180aaa11998f",
   "metadata": {},
   "outputs": [],
   "source": [
    "Python has a set of built-in math functions, including an extensive math module, that allows you to perform mathematical tasks on numbers.\n",
    "\n",
    "Built-in Math Functions\n",
    "The min() and max() functions can be used to find the lowest or highest value in an iterable:\n"
   ]
  },
  {
   "cell_type": "code",
   "execution_count": 2,
   "id": "379ca4c8-ed09-4fd8-ae64-196af5077267",
   "metadata": {},
   "outputs": [
    {
     "name": "stdout",
     "output_type": "stream",
     "text": [
      "1\n",
      "421\n"
     ]
    }
   ],
   "source": [
    "x=min(1,2,3,4)\n",
    "y=max(2,3,421)\n",
    "print(x)\n",
    "print(y)"
   ]
  },
  {
   "cell_type": "code",
   "execution_count": null,
   "id": "b45a8c1d-edc8-41c1-ad25-44f75be6a893",
   "metadata": {},
   "outputs": [],
   "source": [
    "The abs() function returns the absolute (positive) value of the specified number:"
   ]
  },
  {
   "cell_type": "code",
   "execution_count": 4,
   "id": "8eb0d915-dff4-44d3-bc6d-00e0f1e16e6b",
   "metadata": {},
   "outputs": [
    {
     "name": "stdout",
     "output_type": "stream",
     "text": [
      "2\n"
     ]
    }
   ],
   "source": [
    "x=-2\n",
    "print(abs(x))"
   ]
  },
  {
   "cell_type": "code",
   "execution_count": null,
   "id": "95743ba6-742e-490f-8c5f-4d72a9932d50",
   "metadata": {},
   "outputs": [],
   "source": [
    "The pow(x, y) function returns the value of x to the power of y (xy)."
   ]
  },
  {
   "cell_type": "code",
   "execution_count": 6,
   "id": "b6e7e2be-1c83-4f56-9b4b-04593764139d",
   "metadata": {},
   "outputs": [
    {
     "name": "stdout",
     "output_type": "stream",
     "text": [
      "8\n"
     ]
    }
   ],
   "source": [
    "x=pow(2,3)\n",
    "print(x)"
   ]
  },
  {
   "cell_type": "code",
   "execution_count": null,
   "id": "148c150e-1607-4fa5-a87a-6a560a0c7f78",
   "metadata": {},
   "outputs": [],
   "source": [
    "The Math Module\n",
    "Python has also a built-in module called math, which extends the list of mathematical functions.\n",
    "\n",
    "To use it, you must import the math module:"
   ]
  },
  {
   "cell_type": "code",
   "execution_count": null,
   "id": "5b0510f4-6d47-4a64-9170-8133e19645c5",
   "metadata": {},
   "outputs": [],
   "source": [
    "When you have imported the math module, you can start using methods and constants of the module.\n",
    "\n",
    "The math.sqrt() method for example, returns the square root of a number:"
   ]
  },
  {
   "cell_type": "code",
   "execution_count": 8,
   "id": "7002008c-a0c8-4a7f-9355-da8ed61c3536",
   "metadata": {},
   "outputs": [
    {
     "name": "stdout",
     "output_type": "stream",
     "text": [
      "4.898979485566356\n"
     ]
    }
   ],
   "source": [
    "import math \n",
    "x=math.sqrt(24)\n",
    "print(x)"
   ]
  },
  {
   "cell_type": "code",
   "execution_count": null,
   "id": "b6afe0e6-a849-415f-9923-c80cd36d7112",
   "metadata": {},
   "outputs": [],
   "source": [
    "The math.ceil() method rounds a number upwards to its nearest integer, and the math.floor() method rounds a number downwards to its nearest integer, and returns the result: "
   ]
  },
  {
   "cell_type": "code",
   "execution_count": 10,
   "id": "2b474f77-c908-4edb-9253-ed963818f674",
   "metadata": {},
   "outputs": [
    {
     "name": "stdout",
     "output_type": "stream",
     "text": [
      "2\n",
      "1\n"
     ]
    }
   ],
   "source": [
    "import math \n",
    "x=math.ceil(1.6)\n",
    "print(x)\n",
    "y=math.floor(1.8)\n",
    "print(y)"
   ]
  },
  {
   "cell_type": "code",
   "execution_count": 14,
   "id": "027b9a54-2f5b-4021-a5a4-1dbd1c087a2e",
   "metadata": {},
   "outputs": [
    {
     "data": {
      "text/plain": [
       "3.141592653589793"
      ]
     },
     "execution_count": 14,
     "metadata": {},
     "output_type": "execute_result"
    }
   ],
   "source": [
    "import math as ma\n",
    "x=ma.pi\n",
    "x"
   ]
  },
  {
   "cell_type": "code",
   "execution_count": 16,
   "id": "1f6bcdf2-5e0a-4c45-a53e-daadf5d5eb8c",
   "metadata": {},
   "outputs": [
    {
     "name": "stdout",
     "output_type": "stream",
     "text": [
      "24\n",
      "23\n"
     ]
    }
   ],
   "source": [
    "from math import ceil,floor\n",
    "x=23.3\n",
    "print(ceil(x))\n",
    "print(floor(x))"
   ]
  },
  {
   "cell_type": "code",
   "execution_count": null,
   "id": "30785b79-79a5-4e98-96f9-62ac3b007f64",
   "metadata": {},
   "outputs": [],
   "source": []
  }
 ],
 "metadata": {
  "kernelspec": {
   "display_name": "Python [conda env:base] *",
   "language": "python",
   "name": "conda-base-py"
  },
  "language_info": {
   "codemirror_mode": {
    "name": "ipython",
    "version": 3
   },
   "file_extension": ".py",
   "mimetype": "text/x-python",
   "name": "python",
   "nbconvert_exporter": "python",
   "pygments_lexer": "ipython3",
   "version": "3.12.7"
  }
 },
 "nbformat": 4,
 "nbformat_minor": 5
}
