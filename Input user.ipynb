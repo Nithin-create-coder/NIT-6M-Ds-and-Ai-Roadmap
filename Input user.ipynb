{
 "cells": [
  {
   "cell_type": "code",
   "execution_count": 2,
   "id": "20755e03-9269-492a-910d-4b1368ca9c3f",
   "metadata": {},
   "outputs": [
    {
     "name": "stdin",
     "output_type": "stream",
     "text": [
      "enter user input 34\n"
     ]
    },
    {
     "name": "stdout",
     "output_type": "stream",
     "text": [
      "34\n"
     ]
    }
   ],
   "source": [
    "x=int(input(\"enter user input\"))\n",
    "print(x)"
   ]
  },
  {
   "cell_type": "code",
   "execution_count": null,
   "id": "922e6ba7-b933-4ec4-83cc-c57c40b49c82",
   "metadata": {},
   "outputs": [],
   "source": [
    "Python input()\n",
    "1. What is the input() function in Python used for?\n",
    "input() function in python is used to get the input entry from user\n",
    "2. How can you accept an integer as input from the user using input()?"
   ]
  },
  {
   "cell_type": "code",
   "execution_count": 4,
   "id": "1944702a-a7b4-4518-a665-cd2e43aa2d1d",
   "metadata": {},
   "outputs": [
    {
     "name": "stdin",
     "output_type": "stream",
     "text": [
      "Enter user input in float format: 2.4\n"
     ]
    },
    {
     "data": {
      "text/plain": [
       "2.4"
      ]
     },
     "execution_count": 4,
     "metadata": {},
     "output_type": "execute_result"
    }
   ],
   "source": [
    "#3. How do you accept a float input from the user?\n",
    "user_input_float = float(input(\"Enter user input in float format:\"))\n",
    "user_input_float"
   ]
  },
  {
   "cell_type": "code",
   "execution_count": 6,
   "id": "bbf40571-b517-4b2f-b680-6e382cf72922",
   "metadata": {},
   "outputs": [
    {
     "name": "stdin",
     "output_type": "stream",
     "text": [
      "Pass as multi-line text dtydt\n"
     ]
    },
    {
     "data": {
      "text/plain": [
       "'dtydt'"
      ]
     },
     "execution_count": 6,
     "metadata": {},
     "output_type": "execute_result"
    }
   ],
   "source": [
    "#4. How can you take multiple space-separated values as input?\n",
    "multi_space_seperated = input(\"Pass as multi-line text\")\n",
    "multi_space_seperated"
   ]
  },
  {
   "cell_type": "code",
   "execution_count": 10,
   "id": "8b8ec741-e68c-4465-b08f-1ee6a381a06d",
   "metadata": {},
   "outputs": [
    {
     "name": "stdin",
     "output_type": "stream",
     "text": [
      "Enter numbers with comma seperated [2,45,6,3,5,2,4]\n"
     ]
    },
    {
     "name": "stdout",
     "output_type": "stream",
     "text": [
      "['[2', '45', '6', '3', '5', '2', '4]']\n"
     ]
    }
   ],
   "source": [
    "user_input_integers = input(\"Enter numbers with comma seperated\")\n",
    "list1 = list()\n",
    "for i in user_input_integers.split(','):\n",
    "  list1.append(i)\n",
    "print(list1)"
   ]
  },
  {
   "cell_type": "code",
   "execution_count": 12,
   "id": "689b01c5-1ecb-4ddf-aaa1-44edbc78bfd8",
   "metadata": {},
   "outputs": [
    {
     "name": "stdin",
     "output_type": "stream",
     "text": [
      "Enter string input i am a hard working human being\n"
     ]
    },
    {
     "name": "stdout",
     "output_type": "stream",
     "text": [
      "I AM A HARD WORKING HUMAN BEING\n"
     ]
    }
   ],
   "source": [
    "input_string = input(\"Enter string input\")\n",
    "print(input_string.upper())"
   ]
  },
  {
   "cell_type": "code",
   "execution_count": 14,
   "id": "53191b84-8b2f-48f2-b1b1-7445afc1d1ab",
   "metadata": {},
   "outputs": [
    {
     "name": "stdin",
     "output_type": "stream",
     "text": [
      "Enter a text :  i\n"
     ]
    },
    {
     "name": "stdout",
     "output_type": "stream",
     "text": [
      "Number of vowels :1\n"
     ]
    }
   ],
   "source": [
    "listofvowels = ['a', 'e', 'i', 'o', 'u']\n",
    "user_input_string = input('Enter a text : ')\n",
    "#user_input_string = \"the usa\"\n",
    "#Method 1:\n",
    "count_ofvowels = int(user_input_string.count('a'))\n",
    "count_ofvowels += int(user_input_string.count('e'))\n",
    "count_ofvowels += int(user_input_string.count('i'))\n",
    "count_ofvowels += int(user_input_string.count('o'))\n",
    "count_ofvowels += int(user_input_string.count('u'))\n",
    "# Method 2:\n",
    "#count_ofvowels = 0\n",
    "#for i in listofvowels:\n",
    "# count_ofvowels += int(user_input_string.count(i))\n",
    "print('Number of vowels :' + str(count_ofvowels))"
   ]
  },
  {
   "cell_type": "code",
   "execution_count": 16,
   "id": "f2bf6dbf-bd4b-4e78-beb3-789ed47c3303",
   "metadata": {},
   "outputs": [
    {
     "name": "stdin",
     "output_type": "stream",
     "text": [
      "Enter the value in number to validate even / odd :  34\n"
     ]
    },
    {
     "name": "stdout",
     "output_type": "stream",
     "text": [
      "It's a even number :34\n",
      "\n"
     ]
    }
   ],
   "source": [
    "#9. Write a program that takes a number as input and checks if it is even or odd.\n",
    "validate_input_event_odd = int(input(\"Enter the value in number to validate even / odd : \"))\n",
    "isEvenOdd = ((validate_input_event_odd % 2) == 0)\n",
    "#print(isEvenOdd)\n",
    "print((\"It\\'s a even number :\" + str(validate_input_event_odd)) * int(isEvenOdd == True))\n",
    "print((\"It\\'s a odd number :\" + str(validate_input_event_odd)) * int(isEvenOdd == False))"
   ]
  },
  {
   "cell_type": "code",
   "execution_count": 18,
   "id": "b3ecbf2a-8ef6-4286-bc2a-4d8bfdf706a4",
   "metadata": {},
   "outputs": [
    {
     "name": "stdin",
     "output_type": "stream",
     "text": [
      "Enter your text :  nithin\n"
     ]
    },
    {
     "name": "stdout",
     "output_type": "stream",
     "text": [
      "\n",
      "Entered text is a not a palandrome\n"
     ]
    }
   ],
   "source": [
    "#10. How would you check if a string is a palindrome using input()?\n",
    "input_string = input('Enter your text : ')\n",
    "#input_string = \"MEEN\"\n",
    "input_string[::-1] == input_string\n",
    "print(\"Entered text is a palandrome\" * int((input_string[::-1] == input_string) == True))\n",
    "print(\"Entered text is a not a palandrome\" * int((input_string[::-1] == input_string) == False))"
   ]
  },
  {
   "cell_type": "code",
   "execution_count": 20,
   "id": "d956bc63-7554-4516-8a6d-43606f5c1b75",
   "metadata": {},
   "outputs": [
    {
     "name": "stdin",
     "output_type": "stream",
     "text": [
      "Enter a number :  34\n"
     ]
    },
    {
     "name": "stdout",
     "output_type": "stream",
     "text": [
      "\n",
      "It is not divisible by 3 and 7 \n"
     ]
    }
   ],
   "source": [
    "#13. How would you check if a number is divisible by both 3 and 7?\n",
    "# If the entered number reminder is 0 when divided by 3 and 7 then it is said to be divisible by both 3 and 7.\n",
    "input_number = int(input(\"Enter a number : \"))\n",
    "print(\"It is divisible by 3 and 7 \" * int(((input_number % 3 == 0) and (input_number % 7 == 0))== True))\n",
    "print(\"It is not divisible by 3 and 7 \" * int(((input_number % 3 == 0) and (input_number % 7 == 0)) == False))"
   ]
  },
  {
   "cell_type": "code",
   "execution_count": null,
   "id": "c8609435-354b-4606-b9f0-5a4ecfc5f692",
   "metadata": {},
   "outputs": [
    {
     "name": "stdin",
     "output_type": "stream",
     "text": [
      "Enter input 1: 20\n",
      "Enter input 2: 34\n"
     ]
    }
   ],
   "source": [
    "input1 , input2 = int(input(\"Enter input 1:\")), int(input(\"Enter input 2:\"))\n",
    "print(\"Product is : \" + str(input1 * input2))"
   ]
  },
  {
   "cell_type": "code",
   "execution_count": null,
   "id": "5cc72398-2cb1-4ccc-ba5f-00558205a0ab",
   "metadata": {},
   "outputs": [],
   "source": []
  },
  {
   "cell_type": "code",
   "execution_count": null,
   "id": "2be0ce4f-5f7d-451b-9e31-e1b6dde0a9a7",
   "metadata": {},
   "outputs": [],
   "source": []
  },
  {
   "cell_type": "code",
   "execution_count": null,
   "id": "390e2cb4-beb2-48af-a5b6-942312ff3dd7",
   "metadata": {},
   "outputs": [],
   "source": []
  },
  {
   "cell_type": "code",
   "execution_count": null,
   "id": "0a45de9f-a01b-418b-8d0a-b3e7fe864c33",
   "metadata": {},
   "outputs": [],
   "source": []
  },
  {
   "cell_type": "code",
   "execution_count": null,
   "id": "4efde567-7d7c-42ec-809f-0360c7f03c88",
   "metadata": {},
   "outputs": [],
   "source": []
  },
  {
   "cell_type": "code",
   "execution_count": null,
   "id": "02887cbd-7c61-4404-9aec-bbcaa61c04bb",
   "metadata": {},
   "outputs": [],
   "source": []
  },
  {
   "cell_type": "code",
   "execution_count": null,
   "id": "7eb4ce45-213a-4cc9-ba05-3db2115d32c0",
   "metadata": {},
   "outputs": [],
   "source": []
  },
  {
   "cell_type": "code",
   "execution_count": null,
   "id": "448b5dd7-acad-468f-addf-d576e9737fe2",
   "metadata": {},
   "outputs": [],
   "source": []
  },
  {
   "cell_type": "code",
   "execution_count": null,
   "id": "1f85f451-9f3d-4822-aee3-f05c0553fd58",
   "metadata": {},
   "outputs": [],
   "source": []
  },
  {
   "cell_type": "code",
   "execution_count": null,
   "id": "6cd1e58d-e201-450a-99a0-e8796d5d4c7f",
   "metadata": {},
   "outputs": [],
   "source": []
  },
  {
   "cell_type": "code",
   "execution_count": null,
   "id": "d9ccc8a1-e9ad-445e-bfc5-5ad0302c306f",
   "metadata": {},
   "outputs": [],
   "source": []
  },
  {
   "cell_type": "code",
   "execution_count": null,
   "id": "b35a06c6-2c31-4baa-a02e-100353dd3ab5",
   "metadata": {},
   "outputs": [],
   "source": []
  },
  {
   "cell_type": "code",
   "execution_count": null,
   "id": "e79434b0-745e-4510-a138-b4506c5faf88",
   "metadata": {},
   "outputs": [],
   "source": []
  },
  {
   "cell_type": "code",
   "execution_count": null,
   "id": "5cb3db0a-11da-4e77-a2ae-5f3b51d714fe",
   "metadata": {},
   "outputs": [],
   "source": []
  }
 ],
 "metadata": {
  "kernelspec": {
   "display_name": "Python [conda env:base] *",
   "language": "python",
   "name": "conda-base-py"
  },
  "language_info": {
   "codemirror_mode": {
    "name": "ipython",
    "version": 3
   },
   "file_extension": ".py",
   "mimetype": "text/x-python",
   "name": "python",
   "nbconvert_exporter": "python",
   "pygments_lexer": "ipython3",
   "version": "3.12.7"
  }
 },
 "nbformat": 4,
 "nbformat_minor": 5
}
