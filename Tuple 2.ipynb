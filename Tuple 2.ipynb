{
 "cells": [
  {
   "cell_type": "code",
   "execution_count": null,
   "id": "405c170c-173f-422c-9f38-8f9cf708098e",
   "metadata": {},
   "outputs": [],
   "source": [
    "# python tuple \n",
    "Tuple \n",
    "tuple are used to store multiple items in a single variable \n",
    "a tuple is a collection of ordered and unchangeable \n"
   ]
  },
  {
   "cell_type": "code",
   "execution_count": 1,
   "id": "58ce8c5b-bbfa-43bc-9ce1-3c9c7e1cfd02",
   "metadata": {},
   "outputs": [
    {
     "name": "stdout",
     "output_type": "stream",
     "text": [
      "('apple', 'nithin', 'tiger', 'lion', 'cow')\n"
     ]
    }
   ],
   "source": [
    "x=(\"apple\",\"nithin\",\"tiger\",\"lion\",\"cow\")\n",
    "print(x)"
   ]
  },
  {
   "cell_type": "code",
   "execution_count": null,
   "id": "e98af3c7-38dd-4d53-b5c7-30f593c3f715",
   "metadata": {},
   "outputs": [],
   "source": [
    "# tuple items\n",
    "tuple item are ordered unchangeable and allow duplicate values"
   ]
  },
  {
   "cell_type": "code",
   "execution_count": null,
   "id": "c964be5c-722e-48c4-bf5a-31cc0bbd7b67",
   "metadata": {},
   "outputs": [],
   "source": [
    "Ordered\n",
    "When we say that tuples are ordered, it means that the items have a defined order, and that order will not change.\n",
    "\n",
    "Unchangeable\n",
    "Tuples are unchangeable, meaning that we cannot change, add or remove items after the tuple has been created.\n",
    "\n",
    "Allow Duplicates\n",
    "Since tuples are indexed, they can have items with the same value:"
   ]
  },
  {
   "cell_type": "code",
   "execution_count": 5,
   "id": "45f9827d-deee-4ad8-9640-ed65dd334d9b",
   "metadata": {},
   "outputs": [
    {
     "name": "stdout",
     "output_type": "stream",
     "text": [
      "<class 'tuple'>\n"
     ]
    }
   ],
   "source": [
    "tuple1=()\n",
    "print(type(tuple1))"
   ]
  },
  {
   "cell_type": "code",
   "execution_count": 13,
   "id": "a6d193d8-0401-40b7-b3c3-ccad52a07df8",
   "metadata": {},
   "outputs": [
    {
     "name": "stdout",
     "output_type": "stream",
     "text": [
      "5\n"
     ]
    }
   ],
   "source": [
    "tuple=(1,23,4,5)\n",
    "tuple1=('one','two')\n",
    "tuple2=(23,'nithin',(23,45,2),(12,324))\n",
    "tuple3=(\"nithin\",23,45,{\"nithin\"},[2,3,4,4])\n",
    "print(len(tuple3))"
   ]
  },
  {
   "cell_type": "code",
   "execution_count": 15,
   "id": "be779e44-4646-4ec8-8719-a14447459118",
   "metadata": {},
   "outputs": [
    {
     "data": {
      "text/plain": [
       "1"
      ]
     },
     "execution_count": 15,
     "metadata": {},
     "output_type": "execute_result"
    }
   ],
   "source": [
    "tuple[0]"
   ]
  },
  {
   "cell_type": "code",
   "execution_count": 17,
   "id": "a9aed2a8-2914-45c4-aea2-da4623b88dae",
   "metadata": {},
   "outputs": [
    {
     "data": {
      "text/plain": [
       "{'nithin'}"
      ]
     },
     "execution_count": 17,
     "metadata": {},
     "output_type": "execute_result"
    }
   ],
   "source": [
    "tuple3[3]"
   ]
  },
  {
   "cell_type": "code",
   "execution_count": 19,
   "id": "a5efa06e-db75-4b91-89c1-df067d863acf",
   "metadata": {},
   "outputs": [
    {
     "data": {
      "text/plain": [
       "5"
      ]
     },
     "execution_count": 19,
     "metadata": {},
     "output_type": "execute_result"
    }
   ],
   "source": [
    "tuple[-1]"
   ]
  },
  {
   "cell_type": "code",
   "execution_count": 21,
   "id": "0d54eb6d-6f17-4a3e-a1ea-33e249207546",
   "metadata": {},
   "outputs": [
    {
     "data": {
      "text/plain": [
       "(23, 4, 5)"
      ]
     },
     "execution_count": 21,
     "metadata": {},
     "output_type": "execute_result"
    }
   ],
   "source": [
    "x=(1,23,4,5,6,7)\n",
    "x[1:4]"
   ]
  },
  {
   "cell_type": "code",
   "execution_count": 23,
   "id": "c827a7bd-f1ab-4606-b707-733f21659893",
   "metadata": {},
   "outputs": [
    {
     "data": {
      "text/plain": [
       "(1, 23, 4, 5)"
      ]
     },
     "execution_count": 23,
     "metadata": {},
     "output_type": "execute_result"
    }
   ],
   "source": [
    "x[:4]"
   ]
  },
  {
   "cell_type": "code",
   "execution_count": 29,
   "id": "99d5fc35-8519-4985-9104-3d3b57a07009",
   "metadata": {},
   "outputs": [
    {
     "data": {
      "text/plain": [
       "()"
      ]
     },
     "execution_count": 29,
     "metadata": {},
     "output_type": "execute_result"
    }
   ],
   "source": [
    "x[-1:-5]"
   ]
  },
  {
   "cell_type": "code",
   "execution_count": 31,
   "id": "9cf4e997-fca7-49b4-803e-1f94f42c0bd2",
   "metadata": {},
   "outputs": [
    {
     "data": {
      "text/plain": [
       "7"
      ]
     },
     "execution_count": 31,
     "metadata": {},
     "output_type": "execute_result"
    }
   ],
   "source": [
    "x[-1]"
   ]
  },
  {
   "cell_type": "code",
   "execution_count": 33,
   "id": "35a43c33-3196-4f7f-ba77-055c780ee06d",
   "metadata": {},
   "outputs": [
    {
     "data": {
      "text/plain": [
       "(1, 23, 4, 5, 6, 7)"
      ]
     },
     "execution_count": 33,
     "metadata": {},
     "output_type": "execute_result"
    }
   ],
   "source": [
    "x[:]"
   ]
  },
  {
   "cell_type": "code",
   "execution_count": 35,
   "id": "1a623fb5-a094-418f-a771-2862909aec8e",
   "metadata": {},
   "outputs": [
    {
     "ename": "TypeError",
     "evalue": "'tuple' object doesn't support item deletion",
     "output_type": "error",
     "traceback": [
      "\u001b[1;31m---------------------------------------------------------------------------\u001b[0m",
      "\u001b[1;31mTypeError\u001b[0m                                 Traceback (most recent call last)",
      "Cell \u001b[1;32mIn[35], line 1\u001b[0m\n\u001b[1;32m----> 1\u001b[0m \u001b[38;5;28;01mdel\u001b[39;00m x[\u001b[38;5;241m0\u001b[39m]\n",
      "\u001b[1;31mTypeError\u001b[0m: 'tuple' object doesn't support item deletion"
     ]
    }
   ],
   "source": [
    "del x[0]"
   ]
  },
  {
   "cell_type": "code",
   "execution_count": 37,
   "id": "9341bc4c-5318-4b85-85e6-43a37ec8b78a",
   "metadata": {},
   "outputs": [
    {
     "ename": "TypeError",
     "evalue": "'tuple' object does not support item assignment",
     "output_type": "error",
     "traceback": [
      "\u001b[1;31m---------------------------------------------------------------------------\u001b[0m",
      "\u001b[1;31mTypeError\u001b[0m                                 Traceback (most recent call last)",
      "Cell \u001b[1;32mIn[37], line 1\u001b[0m\n\u001b[1;32m----> 1\u001b[0m x[\u001b[38;5;241m0\u001b[39m]\u001b[38;5;241m=\u001b[39m\u001b[38;5;241m1\u001b[39m\n",
      "\u001b[1;31mTypeError\u001b[0m: 'tuple' object does not support item assignment"
     ]
    }
   ],
   "source": [
    "x[0]=1"
   ]
  },
  {
   "cell_type": "code",
   "execution_count": 39,
   "id": "64c7b7f2-c995-4fa4-816a-165a014ceb43",
   "metadata": {},
   "outputs": [],
   "source": [
    "del x # deleting entire tuple object\n"
   ]
  },
  {
   "cell_type": "code",
   "execution_count": 41,
   "id": "630b2130-b8f4-41b8-83ef-290a21282b50",
   "metadata": {},
   "outputs": [
    {
     "name": "stdout",
     "output_type": "stream",
     "text": [
      "12\n",
      "3\n",
      "5\n",
      "6\n",
      "6\n",
      "8\n",
      "63\n",
      "23\n",
      "9\n"
     ]
    }
   ],
   "source": [
    "# loop through a tuple\n",
    "x=(12,3,5,6,6,8,63,23,9)\n",
    "for i in x:\n",
    "    print(i)"
   ]
  },
  {
   "cell_type": "code",
   "execution_count": 43,
   "id": "3b01e3f2-b3e5-4f41-b2ac-d20ffac9bbe6",
   "metadata": {},
   "outputs": [
    {
     "data": {
      "text/plain": [
       "True"
      ]
     },
     "execution_count": 43,
     "metadata": {},
     "output_type": "execute_result"
    }
   ],
   "source": [
    "# tuple membership\n",
    "x=(12,34,1,23,4,5,67,98,4)\n",
    "12 in x"
   ]
  },
  {
   "cell_type": "code",
   "execution_count": 45,
   "id": "a99360a1-bb44-4c87-8d0a-1bd2946f3931",
   "metadata": {},
   "outputs": [
    {
     "data": {
      "text/plain": [
       "False"
      ]
     },
     "execution_count": 45,
     "metadata": {},
     "output_type": "execute_result"
    }
   ],
   "source": [
    "23 not in x"
   ]
  },
  {
   "cell_type": "code",
   "execution_count": 49,
   "id": "68a06e9e-9db1-41d3-8f12-2a29b32d2944",
   "metadata": {},
   "outputs": [
    {
     "ename": "TypeError",
     "evalue": "'tuple' object is not callable",
     "output_type": "error",
     "traceback": [
      "\u001b[1;31m---------------------------------------------------------------------------\u001b[0m",
      "\u001b[1;31mTypeError\u001b[0m                                 Traceback (most recent call last)",
      "Cell \u001b[1;32mIn[49], line 5\u001b[0m\n\u001b[0;32m      3\u001b[0m y\u001b[38;5;241m=\u001b[39m\u001b[38;5;28mlist\u001b[39m(x)\n\u001b[0;32m      4\u001b[0m y[\u001b[38;5;241m1\u001b[39m]\u001b[38;5;241m=\u001b[39m\u001b[38;5;124m\"\u001b[39m\u001b[38;5;124mkiwi\u001b[39m\u001b[38;5;124m\"\u001b[39m\n\u001b[1;32m----> 5\u001b[0m x\u001b[38;5;241m=\u001b[39m\u001b[38;5;28mtuple\u001b[39m(y)\n\u001b[0;32m      7\u001b[0m \u001b[38;5;28mprint\u001b[39m(x)\n",
      "\u001b[1;31mTypeError\u001b[0m: 'tuple' object is not callable"
     ]
    }
   ],
   "source": [
    "# convert the tuple into list to be able to chage ir \n",
    "x=(\"apple\",\"banana\",\"cherry\")\n",
    "y=list(x)\n",
    "y[1]=\"kiwi\"\n",
    "x=tuple(y)\n",
    "\n",
    "print(x)"
   ]
  },
  {
   "cell_type": "code",
   "execution_count": 51,
   "id": "7d67699b-abcf-42e9-8a8b-b81179d7e349",
   "metadata": {},
   "outputs": [
    {
     "name": "stdout",
     "output_type": "stream",
     "text": [
      "('a', 'b', 1, 2, 3, 4)\n"
     ]
    }
   ],
   "source": [
    "t1=('a','b')\n",
    "r=(1,2,3,4)\n",
    "w=t1+r\n",
    "print(w)"
   ]
  },
  {
   "cell_type": "code",
   "execution_count": 55,
   "id": "abae19f5-8847-4778-9579-0c5dedabe09b",
   "metadata": {},
   "outputs": [
    {
     "name": "stdout",
     "output_type": "stream",
     "text": [
      "(1, 23, 4, 5, 1, 23, 4, 5, 1, 23, 4, 5)\n"
     ]
    }
   ],
   "source": [
    "a=(1,23,4,5)\n",
    "r=a*3\n",
    "print(r)"
   ]
  },
  {
   "cell_type": "code",
   "execution_count": null,
   "id": "4ec0869c-fab2-422d-9c54-51b35b32fd7a",
   "metadata": {},
   "outputs": [],
   "source": [
    "Tuple Methods\n",
    "Python has two built-in methods that you can use on tuples.\n",
    "\n",
    "Method\tDescription\n",
    "count()\tReturns the number of times a specified value occurs in a tuple\n",
    "index()\tSearches the tuple for a specified value and returns the position of where it was found"
   ]
  }
 ],
 "metadata": {
  "kernelspec": {
   "display_name": "Python [conda env:base] *",
   "language": "python",
   "name": "conda-base-py"
  },
  "language_info": {
   "codemirror_mode": {
    "name": "ipython",
    "version": 3
   },
   "file_extension": ".py",
   "mimetype": "text/x-python",
   "name": "python",
   "nbconvert_exporter": "python",
   "pygments_lexer": "ipython3",
   "version": "3.12.7"
  }
 },
 "nbformat": 4,
 "nbformat_minor": 5
}
