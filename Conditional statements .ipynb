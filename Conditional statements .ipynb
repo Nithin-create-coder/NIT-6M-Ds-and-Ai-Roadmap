{
 "cells": [
  {
   "cell_type": "code",
   "execution_count": 2,
   "id": "8392ec75-0f0e-4e9c-a11e-afbc3932b4f8",
   "metadata": {},
   "outputs": [
    {
     "name": "stdin",
     "output_type": "stream",
     "text": [
      "enter the number to find even or odd 34\n"
     ]
    },
    {
     "name": "stdout",
     "output_type": "stream",
     "text": [
      "your enter number is even \n"
     ]
    }
   ],
   "source": [
    "# 1. check if a number is even or odd\n",
    "x = int(input(\"enter the number to find even or odd\"))\n",
    "if x%2==0:\n",
    "    print(\"your enter number is even \")\n",
    "else:\n",
    "    print(\"your enter number is odd\")\n",
    "  "
   ]
  },
  {
   "cell_type": "code",
   "execution_count": 4,
   "id": "cffb8299-35d6-4de2-9cc0-0bb40ee94db1",
   "metadata": {},
   "outputs": [
    {
     "name": "stdin",
     "output_type": "stream",
     "text": [
      "enter the your age so i will tell you you are eligible for vote or not  12\n"
     ]
    },
    {
     "name": "stdout",
     "output_type": "stream",
     "text": [
      "your are not eligible for vote wait for 18 years \n"
     ]
    }
   ],
   "source": [
    "# 2.Check is a person is eligible to vote (age 18 or above)\n",
    "x=int(input(\"enter the your age so i will tell you you are eligible for vote or not \"))\n",
    "if x>=18:\n",
    "    print(\"your are eligible for vote \")\n",
    "else:\n",
    "    print(\"your are not eligible for vote wait for 18 years \")"
   ]
  },
  {
   "cell_type": "code",
   "execution_count": 10,
   "id": "d8fdcde8-fcfd-430c-b0cd-137750056096",
   "metadata": {},
   "outputs": [
    {
     "name": "stdin",
     "output_type": "stream",
     "text": [
      "enter the year to find leap year or not  2003\n"
     ]
    },
    {
     "name": "stdout",
     "output_type": "stream",
     "text": [
      "it is not a leap year\n"
     ]
    }
   ],
   "source": [
    "# 3.Determine if a given year is a leap year or not \n",
    "x=int(input(\"enter the year to find leap year or not \"))\n",
    "if(x%4==0 and x%100!=0)or (x%400==0):\n",
    "    print(\"it is leap year \")\n",
    "else:\n",
    "    print(\"it is not a leap year\")\n"
   ]
  },
  {
   "cell_type": "code",
   "execution_count": 16,
   "id": "7327c62c-036e-46d6-9626-707fd8cbfda1",
   "metadata": {},
   "outputs": [
    {
     "name": "stdin",
     "output_type": "stream",
     "text": [
      "enter the nuber to find po or negative or zero -34\n"
     ]
    },
    {
     "name": "stdout",
     "output_type": "stream",
     "text": [
      "it is negative number \n"
     ]
    }
   ],
   "source": [
    "# 4.check ia a number is positive ,negative, or zero \n",
    "x=int(input(\"enter the nuber to find po or negative or zero\"))\n",
    "if x==0:\n",
    "    print(\"enter number is 0 \")\n",
    "elif x>0:\n",
    "    print(\"it is posite number \")\n",
    "else:\n",
    "    print(\"it is negative number \")\n",
    "    "
   ]
  },
  {
   "cell_type": "code",
   "execution_count": 22,
   "id": "926c0c0d-b3de-46be-a7ff-cb5eca4dd124",
   "metadata": {},
   "outputs": [
    {
     "name": "stdin",
     "output_type": "stream",
     "text": [
      "enter the number 1  23\n",
      "enter the number 2 45\n"
     ]
    },
    {
     "name": "stdout",
     "output_type": "stream",
     "text": [
      "number 45 is geater than num 23\n"
     ]
    }
   ],
   "source": [
    "# 5.Write a program to find the greatest of two number \n",
    "x=int(input(\"enter the number 1 \"))\n",
    "y=int(input(\"enter the number 2\"))\n",
    "if x>y:\n",
    "    print(f\"number {x} geater than number {y} \")\n",
    "else:\n",
    "    print(f\"number {y} is geater than num {x}\")\n",
    "    "
   ]
  },
  {
   "cell_type": "code",
   "execution_count": 24,
   "id": "a9df33b6-67e9-43ca-965f-de0f89db008c",
   "metadata": {},
   "outputs": [
    {
     "name": "stdin",
     "output_type": "stream",
     "text": [
      "enter the number to fin d multiple of 5  34\n"
     ]
    },
    {
     "name": "stdout",
     "output_type": "stream",
     "text": [
      "number is not multiple by 5 \n"
     ]
    }
   ],
   "source": [
    "# 6.Determine if a number is a multiple of 5 \n",
    "num = int(input(\"enter the number to fin d multiple of 5 \"))\n",
    "if num%5==0:\n",
    "    print(\"number is multiple by 5 \")\n",
    "else:\n",
    "    print(\"number is not multiple by 5 \")"
   ]
  },
  {
   "cell_type": "code",
   "execution_count": 30,
   "id": "277f318c-c528-48ca-9b6d-7e16bb376778",
   "metadata": {},
   "outputs": [
    {
     "name": "stdin",
     "output_type": "stream",
     "text": [
      "enter the charector  I\n"
     ]
    },
    {
     "name": "stdout",
     "output_type": "stream",
     "text": [
      "enter cha is vowel\n"
     ]
    }
   ],
   "source": [
    "# 7.Check if a character is a vowel or consonant \n",
    "x=input(\"enter the charector \")\n",
    "if x in 'aeiouAEIOU':\n",
    "    print(\"enter cha is vowel\")\n",
    "else:\n",
    "    print(\"enter char is consonant\")"
   ]
  },
  {
   "cell_type": "code",
   "execution_count": 32,
   "id": "fa6d080e-1a52-4408-a05a-322ebe327942",
   "metadata": {},
   "outputs": [
    {
     "name": "stdin",
     "output_type": "stream",
     "text": [
      "enter the age is eligible for a senior citizein 78\n"
     ]
    },
    {
     "name": "stdout",
     "output_type": "stream",
     "text": [
      "elegible for senior citizen\n"
     ]
    }
   ],
   "source": [
    "# 8.Determine if a person is eligible for a senior citizen discount (age 60+)\n",
    "x=int(input(\"enter the age is eligible for a senior citizein\"))\n",
    "if x >=60:\n",
    "    print(\"elegible for senior citizen\")\n",
    "else :\n",
    "    print(\"not eligible \")\n"
   ]
  },
  {
   "cell_type": "code",
   "execution_count": 36,
   "id": "5385be1c-a326-4082-b244-e4298a53af93",
   "metadata": {},
   "outputs": [
    {
     "name": "stdin",
     "output_type": "stream",
     "text": [
      "enter the number  23\n"
     ]
    },
    {
     "name": "stdout",
     "output_type": "stream",
     "text": [
      "it is double digit \n"
     ]
    }
   ],
   "source": [
    "# 9. Check if a number ia s single digit number \n",
    "x =int(input(\"enter the number \"))\n",
    "if abs(x)<10:\n",
    "    print(\"it is a single digit \")\n",
    "else:\n",
    "    print(\"it is double digit \")"
   ]
  },
  {
   "cell_type": "code",
   "execution_count": null,
   "id": "83026826-2d3f-46fb-be4b-eed1a8869f93",
   "metadata": {},
   "outputs": [],
   "source": [
    "# 10 . print \" good morning \" if the time is before 12 pm otherwise print \"good afternoon:\n",
    "hour=int(input(\"enter the hour 24 format  \"))\n",
    "if hour<12:\n",
    "    print(\"good morning \")\n",
    "else:\n",
    "    print(\"good afternoon\")"
   ]
  },
  {
   "cell_type": "code",
   "execution_count": 38,
   "id": "477160d0-3c1e-4423-810b-78a66adb3392",
   "metadata": {},
   "outputs": [
    {
     "name": "stdin",
     "output_type": "stream",
     "text": [
      "enter the string weer\n"
     ]
    },
    {
     "name": "stdout",
     "output_type": "stream",
     "text": [
      "string is not empty\n"
     ]
    }
   ],
   "source": [
    "# 11 check if a string is empty or not \n",
    "x=input(\"enter the string\")\n",
    "if not x:\n",
    "    print(\"string is empty\")\n",
    "else:\n",
    "    print(\"string is not empty\")"
   ]
  },
  {
   "cell_type": "code",
   "execution_count": 42,
   "id": "55f96924-6fb4-402a-9bce-5dd2033e5ff4",
   "metadata": {},
   "outputs": [
    {
     "name": "stdin",
     "output_type": "stream",
     "text": [
      "enter the number  23\n"
     ]
    },
    {
     "name": "stdout",
     "output_type": "stream",
     "text": [
      "not a perfect square\n"
     ]
    }
   ],
   "source": [
    "# 12 . Verify if a number is perfect square \n",
    "import math\n",
    "x=int(input(\"enter the number \"))\n",
    "if math.isqrt(x)**2==x:\n",
    "    print(\"perfect square\")\n",
    "else:\n",
    "    print(\"not a perfect square\")"
   ]
  },
  {
   "cell_type": "code",
   "execution_count": 44,
   "id": "a3c9a384-78b6-4fb7-827e-8e2367024d2b",
   "metadata": {},
   "outputs": [
    {
     "name": "stdin",
     "output_type": "stream",
     "text": [
      "enter the number  1444\n"
     ]
    },
    {
     "name": "stdout",
     "output_type": "stream",
     "text": [
      "with out range\n"
     ]
    }
   ],
   "source": [
    "# 13. Determine if a number is betwenn 1 and 100\n",
    "x = int(input(\"enter the number \"))\n",
    "if 1<=x<=100:\n",
    "    print(\"with in range\")\n",
    "else:\n",
    "    print(\"with out range\")"
   ]
  },
  {
   "cell_type": "code",
   "execution_count": 46,
   "id": "7231aa09-8cd1-4b39-b82f-cf2dbd301fad",
   "metadata": {},
   "outputs": [
    {
     "name": "stdin",
     "output_type": "stream",
     "text": [
      "enter the day  saturday\n"
     ]
    },
    {
     "name": "stdout",
     "output_type": "stream",
     "text": [
      "Weekend\n"
     ]
    }
   ],
   "source": [
    "# 14. print \"weekend \" if the day is saturday or sunday : otherwise ,print \" weekday\"\n",
    "x=input(\"enter the day \")\n",
    "if x in [\"saturday\",\"sunday\"]:\n",
    "    print(\"Weekend\")\n",
    "else:\n",
    "    print(\"weekday\")\n",
    "    "
   ]
  },
  {
   "cell_type": "code",
   "execution_count": 50,
   "id": "731f0608-328a-43ab-9392-e733c64e1128",
   "metadata": {},
   "outputs": [
    {
     "name": "stdin",
     "output_type": "stream",
     "text": [
      "enter the number  21\n"
     ]
    },
    {
     "name": "stdout",
     "output_type": "stream",
     "text": [
      " it is divisible by  3 and 7 \n"
     ]
    }
   ],
   "source": [
    "# 15 . find if a given number is exactly divisible by both 3 and 7 \n",
    "x=int(input(\"enter the number \"))\n",
    "if x%3==0 and x%7==0:\n",
    "    print(\" it is divisible by  3 and 7 \")\n",
    "else:\n",
    "    print(\" not divisible \")"
   ]
  },
  {
   "cell_type": "code",
   "execution_count": 56,
   "id": "d6386bef-6d7a-43e5-9fc3-ea3e15382599",
   "metadata": {},
   "outputs": [
    {
     "name": "stdin",
     "output_type": "stream",
     "text": [
      "enter the number 100\n",
      "enter the number  234\n"
     ]
    },
    {
     "name": "stdout",
     "output_type": "stream",
     "text": [
      "sum of two numbers is greater than 100\n"
     ]
    }
   ],
   "source": [
    "# 16.Check if the sum of two numbers is greater than 100\n",
    "x=int(input(\"enter the number\"))\n",
    "y=int(input(\"enter the number \"))\n",
    "if (x+y)>100:\n",
    "    print(\"sum of two numbers is greater than 100\")\n",
    "else:\n",
    "    print(\" not greater than 100\")\n",
    "    \n",
    "    "
   ]
  },
  {
   "cell_type": "code",
   "execution_count": 60,
   "id": "7cb8cd48-627c-46d8-a3ec-77ab15ab9673",
   "metadata": {},
   "outputs": [
    {
     "name": "stdin",
     "output_type": "stream",
     "text": [
      "enter the nuumber  23\n",
      "enter the number 1\n"
     ]
    },
    {
     "name": "stdout",
     "output_type": "stream",
     "text": [
      "max\n"
     ]
    }
   ],
   "source": [
    "# 17.write a program to find the minimum of two numbers \n",
    "x = int(input(\"enter the nuumber \"))\n",
    "y=int(input(\"enter the number\"))\n",
    "if x<y:\n",
    "    print(\"minimum\")\n",
    "else:\n",
    "    print(\"max\")"
   ]
  },
  {
   "cell_type": "code",
   "execution_count": 66,
   "id": "f3f7982e-68c0-4d93-9c7d-f566efe81e24",
   "metadata": {},
   "outputs": [
    {
     "name": "stdin",
     "output_type": "stream",
     "text": [
      "enter the number  22\n"
     ]
    },
    {
     "name": "stdout",
     "output_type": "stream",
     "text": [
      "divisible by 2 but not by 3\n"
     ]
    }
   ],
   "source": [
    "# 18 . check ia a number is divisible by 2 but not by 3 \n",
    "x = int(input(\"enter the number \"))\n",
    "if x%2==0 and x%3!=0:\n",
    "    print(\"divisible by 2 but not by 3\")\n",
    "else:\n",
    "    print(\"does not divisible \")\n",
    "    \n",
    "   "
   ]
  },
  {
   "cell_type": "code",
   "execution_count": 68,
   "id": "130f07df-beab-40b7-8788-bc7f3f565e21",
   "metadata": {},
   "outputs": [
    {
     "name": "stdin",
     "output_type": "stream",
     "text": [
      "enter the char A\n"
     ]
    },
    {
     "name": "stdout",
     "output_type": "stream",
     "text": [
      "uppercase\n"
     ]
    }
   ],
   "source": [
    "# Determine if a given alphabet is uppercase or lowercase\n",
    "x=input(\"enter the char\")\n",
    "if x.isupper():\n",
    "    print(\"uppercase\")\n",
    "else:\n",
    "    print(\"lowercase\")"
   ]
  },
  {
   "cell_type": "code",
   "execution_count": 70,
   "id": "2b243c39-83d3-4a28-9939-f3680ad175a5",
   "metadata": {},
   "outputs": [
    {
     "name": "stdin",
     "output_type": "stream",
     "text": [
      "enter first side: 23\n",
      "enter secound side: 34\n",
      "enter third side: 56\n"
     ]
    },
    {
     "name": "stdout",
     "output_type": "stream",
     "text": [
      "valid triangle\n"
     ]
    }
   ],
   "source": [
    "# 20. check if a triangle is valid given three side lengths \n",
    "a = int (input(\"enter first side:\"))\n",
    "b=int(input(\"enter secound side:\"))\n",
    "c=int(input(\"enter third side:\"))\n",
    "if a+b>c and a+c > b and b+c>a:\n",
    "  print(\"valid triangle\")\n",
    "else:\n",
    "    print(\"not triangle\")\n",
    "            "
   ]
  },
  {
   "cell_type": "code",
   "execution_count": 2,
   "id": "f29e1512-b441-4d43-98de-06f7b63e1678",
   "metadata": {},
   "outputs": [
    {
     "name": "stdin",
     "output_type": "stream",
     "text": [
      "enter thenumber 23\n",
      "enter thenumber 45\n",
      "enter thenumber 56\n"
     ]
    },
    {
     "name": "stdout",
     "output_type": "stream",
     "text": [
      "z is largest\n"
     ]
    }
   ],
   "source": [
    "# 21 find the largest of three numbers \n",
    "x=int(input(\"enter thenumber\"))\n",
    "y=int(input(\"enter thenumber\"))\n",
    "z=int(input(\"enter thenumber\"))\n",
    "if x>=y and x>=z:\n",
    "    print(\"x is largest\")\n",
    "elif y>=x and y>=z:\n",
    "    print(\"y is largest\")\n",
    "else:\n",
    "    print(\"z is largest\")"
   ]
  },
  {
   "cell_type": "code",
   "execution_count": 6,
   "id": "b1b31614-fc65-447c-b6df-01627c0038a7",
   "metadata": {},
   "outputs": [
    {
     "name": "stdin",
     "output_type": "stream",
     "text": [
      "enter a number  45\n"
     ]
    },
    {
     "name": "stdout",
     "output_type": "stream",
     "text": [
      "not a prime number\n",
      "not a prime number\n",
      "prime number\n"
     ]
    }
   ],
   "source": [
    "# 22 Determine if a number is a prime number \n",
    "x=int(input(\"enter a number \"))\n",
    "if x>1:\n",
    "    for i in range(2,int(x**0.5)+1):\n",
    "        if x%i==0:\n",
    "            print(\"not a prime number\")\n",
    "    else:\n",
    "            print(\"prime number\")"
   ]
  },
  {
   "cell_type": "code",
   "execution_count": 12,
   "id": "b2825a81-8ba8-48e3-ad32-6a2506476eb0",
   "metadata": {},
   "outputs": [
    {
     "name": "stdin",
     "output_type": "stream",
     "text": [
      "enter your age  23\n",
      "enter the yes or not enter in lower leters no\n"
     ]
    },
    {
     "name": "stdout",
     "output_type": "stream",
     "text": [
      "not eligible \n"
     ]
    }
   ],
   "source": [
    "# 23. check ia a person is eligible for a driving license \n",
    "age = int(input(\"enter your age \"))\n",
    "passed_test=input(\"enter the yes or not enter in lower leters\").lower()\n",
    "if age>=18 and passed_test==\"yes\":\n",
    "    print(\"eligible for driving licnese \")\n",
    "else:\n",
    "    print(\"not eligible \")\n"
   ]
  },
  {
   "cell_type": "code",
   "execution_count": 14,
   "id": "783feb33-6aeb-401f-b18d-a1f212736383",
   "metadata": {},
   "outputs": [
    {
     "name": "stdin",
     "output_type": "stream",
     "text": [
      "enter the triangle sides 23\n",
      "enter the triangle sides 45\n",
      "enter the triangle sides 45\n"
     ]
    },
    {
     "name": "stdout",
     "output_type": "stream",
     "text": [
      "isoceles\n"
     ]
    }
   ],
   "source": [
    "# 24 detrmine if a triangleis euilateral ,isosceles, or scalene\n",
    "x=int(input(\"enter the triangle sides\"))\n",
    "y=int(input(\"enter the triangle sides\"))\n",
    "z=int(input(\"enter the triangle sides\"))\n",
    "if x==y==z:\n",
    "    print(\"equilateral triangle\")\n",
    "elif x==y or y==z or z==x:\n",
    "    print(\"isoceles\")\n",
    "else:\n",
    "    print(\"it is scalene\")\n",
    "    "
   ]
  },
  {
   "cell_type": "code",
   "execution_count": 18,
   "id": "6b408f0e-adfc-46e3-886d-48fe8adba565",
   "metadata": {},
   "outputs": [
    {
     "name": "stdin",
     "output_type": "stream",
     "text": [
      "enter  the marks of student 56\n"
     ]
    },
    {
     "name": "stdout",
     "output_type": "stream",
     "text": [
      "pass\n"
     ]
    }
   ],
   "source": [
    "# 25 Determine if a student passes or fails \n",
    "x = int(input(\"enter  the marks of student\"))\n",
    "if x>=40:\n",
    "    print(\"pass\")\n",
    "else:\n",
    "    print(\"Fail\")"
   ]
  },
  {
   "cell_type": "code",
   "execution_count": 22,
   "id": "09959721-1254-4b09-8b94-6e4965a8c417",
   "metadata": {},
   "outputs": [
    {
     "name": "stdin",
     "output_type": "stream",
     "text": [
      "enter the name 123321\n",
      "enter the number to find palindrome  malayalam\n"
     ]
    },
    {
     "name": "stdout",
     "output_type": "stream",
     "text": [
      "it is palindrome number \n"
     ]
    }
   ],
   "source": [
    "# 26 check ia a number is a palindrome \n",
    "x= input(\"enter the name\")\n",
    "y=input(\"enter the number to find palindrome \")\n",
    "if x==x[::-1]:\n",
    "    print(\"it is palindrome number \")\n",
    "elif y==y[::-1]:\n",
    "    print(\"it is palindrome string\")\n",
    "else:\n",
    "    print(\"it is not palindrome \")"
   ]
  },
  {
   "cell_type": "code",
   "execution_count": 26,
   "id": "a78bedcf-8791-4f01-8c3d-8dc099601f05",
   "metadata": {},
   "outputs": [
    {
     "name": "stdin",
     "output_type": "stream",
     "text": [
      "enter marks 45\n"
     ]
    },
    {
     "name": "stdout",
     "output_type": "stream",
     "text": [
      "grade f \n"
     ]
    }
   ],
   "source": [
    "# 28 find the grade of a student \n",
    "x=int(input(\"enter marks\"))\n",
    "if x>=90:\n",
    "    print(\"A grade\")\n",
    "elif  x>=80:\n",
    "    print(\"B grade\")\n",
    "elif x>=70:\n",
    "    print(\"C grade\")\n",
    "elif x>=60:\n",
    "    print(\"e grade\")\n",
    "\n",
    "else:\n",
    "    print(\"grade f \")\n",
    "    \n",
    "    "
   ]
  },
  {
   "cell_type": "code",
   "execution_count": 32,
   "id": "b1c5d663-7c96-4d0c-bb38-8912a213138d",
   "metadata": {},
   "outputs": [
    {
     "name": "stdin",
     "output_type": "stream",
     "text": [
      "enter day monday\n",
      "enterthe month 4\n",
      "enter year: 2004\n"
     ]
    },
    {
     "ename": "TypeError",
     "evalue": "'<=' not supported between instances of 'int' and 'str'",
     "output_type": "error",
     "traceback": [
      "\u001b[1;31m---------------------------------------------------------------------------\u001b[0m",
      "\u001b[1;31mTypeError\u001b[0m                                 Traceback (most recent call last)",
      "Cell \u001b[1;32mIn[32], line 6\u001b[0m\n\u001b[0;32m      4\u001b[0m month\u001b[38;5;241m=\u001b[39m\u001b[38;5;28mint\u001b[39m(\u001b[38;5;28minput\u001b[39m(\u001b[38;5;124m\"\u001b[39m\u001b[38;5;124menterthe month\u001b[39m\u001b[38;5;124m\"\u001b[39m))\n\u001b[0;32m      5\u001b[0m year\u001b[38;5;241m=\u001b[39m\u001b[38;5;28mint\u001b[39m(\u001b[38;5;28minput\u001b[39m(\u001b[38;5;124m\"\u001b[39m\u001b[38;5;124menter year:\u001b[39m\u001b[38;5;124m\"\u001b[39m))\n\u001b[1;32m----> 6\u001b[0m \u001b[38;5;28;01mif\u001b[39;00m \u001b[38;5;241m1\u001b[39m\u001b[38;5;241m<\u001b[39m\u001b[38;5;241m=\u001b[39mmonth\u001b[38;5;241m<\u001b[39m\u001b[38;5;241m=\u001b[39m\u001b[38;5;241m12\u001b[39m \u001b[38;5;129;01mand\u001b[39;00m \u001b[38;5;241m1\u001b[39m\u001b[38;5;241m<\u001b[39m\u001b[38;5;241m=\u001b[39mday\u001b[38;5;241m<\u001b[39m\u001b[38;5;241m=\u001b[39mcalendar\u001b[38;5;241m.\u001b[39mmonthrange(year,month)[\u001b[38;5;241m1\u001b[39m]:\n\u001b[0;32m      7\u001b[0m     \u001b[38;5;28mprint\u001b[39m(\u001b[38;5;124m\"\u001b[39m\u001b[38;5;124mvalid date\u001b[39m\u001b[38;5;124m\"\u001b[39m)\n\u001b[0;32m      8\u001b[0m \u001b[38;5;28;01melse\u001b[39;00m:\n",
      "\u001b[1;31mTypeError\u001b[0m: '<=' not supported between instances of 'int' and 'str'"
     ]
    }
   ],
   "source": [
    "# 29 Determine if a given date is valid \n",
    "import calendar\n",
    "day = input(\"enter day\")\n",
    "month=int(input(\"enterthe month\"))\n",
    "year=int(input(\"enter year:\"))\n",
    "if 1<=month<=12 and 1<=day<=calendar.monthrange(year,month)[1]:\n",
    "    print(\"valid date\")\n",
    "else:\n",
    "    print(\"invalid date\")\n",
    "    \n",
    "               "
   ]
  },
  {
   "cell_type": "code",
   "execution_count": 36,
   "id": "0df45260-36af-4880-8c35-00eab18bba3e",
   "metadata": {},
   "outputs": [
    {
     "name": "stdin",
     "output_type": "stream",
     "text": [
      "Enter day:  monday\n"
     ]
    },
    {
     "ename": "ValueError",
     "evalue": "invalid literal for int() with base 10: 'monday'",
     "output_type": "error",
     "traceback": [
      "\u001b[1;31m---------------------------------------------------------------------------\u001b[0m",
      "\u001b[1;31mValueError\u001b[0m                                Traceback (most recent call last)",
      "Cell \u001b[1;32mIn[36], line 3\u001b[0m\n\u001b[0;32m      1\u001b[0m \u001b[38;5;66;03m#29\u001b[39;00m\n\u001b[0;32m      2\u001b[0m \u001b[38;5;28;01mimport\u001b[39;00m \u001b[38;5;21;01mcalendar\u001b[39;00m\n\u001b[1;32m----> 3\u001b[0m day \u001b[38;5;241m=\u001b[39m \u001b[38;5;28mint\u001b[39m(\u001b[38;5;28minput\u001b[39m(\u001b[38;5;124m\"\u001b[39m\u001b[38;5;124mEnter day: \u001b[39m\u001b[38;5;124m\"\u001b[39m))\n\u001b[0;32m      4\u001b[0m month \u001b[38;5;241m=\u001b[39m \u001b[38;5;28mint\u001b[39m(\u001b[38;5;28minput\u001b[39m(\u001b[38;5;124m\"\u001b[39m\u001b[38;5;124mEnter month: \u001b[39m\u001b[38;5;124m\"\u001b[39m))\n\u001b[0;32m      5\u001b[0m year \u001b[38;5;241m=\u001b[39m \u001b[38;5;28mint\u001b[39m(\u001b[38;5;28minput\u001b[39m(\u001b[38;5;124m\"\u001b[39m\u001b[38;5;124mEnter year: \u001b[39m\u001b[38;5;124m\"\u001b[39m))\n",
      "\u001b[1;31mValueError\u001b[0m: invalid literal for int() with base 10: 'monday'"
     ]
    }
   ],
   "source": [
    "#29\n",
    "import calendar\n",
    "day = int(input(\"Enter day: \"))\n",
    "month = int(input(\"Enter month: \"))\n",
    "year = int(input(\"Enter year: \"))\n",
    "if 1 <= month <= 12 and 1 <= day <= calendar.monthrange(year, month)[1]:\n",
    " print(\"Valid date\")\n",
    "else:\n",
    " print(\"Invalid date\")\n"
   ]
  },
  {
   "cell_type": "code",
   "execution_count": 38,
   "id": "be4196d8-d049-46f4-bff1-d57f9941b17c",
   "metadata": {},
   "outputs": [
    {
     "name": "stdin",
     "output_type": "stream",
     "text": [
      "enter the format time  2\n"
     ]
    },
    {
     "name": "stdout",
     "output_type": "stream",
     "text": [
      "am\n"
     ]
    }
   ],
   "source": [
    "# 30 check ia a given time is am or pm\n",
    "hour = int(input(\"enter the format time \"))\n",
    "if hour<12:\n",
    "    print(\"am\")\n",
    "else:\n",
    "    print(\"pm\")"
   ]
  },
  {
   "cell_type": "code",
   "execution_count": null,
   "id": "1372c444-9745-4ff4-aedd-59d488bf7991",
   "metadata": {},
   "outputs": [],
   "source": [
    "# 31 check if number ia an Armstrong number \n"
   ]
  }
 ],
 "metadata": {
  "kernelspec": {
   "display_name": "Python [conda env:base] *",
   "language": "python",
   "name": "conda-base-py"
  },
  "language_info": {
   "codemirror_mode": {
    "name": "ipython",
    "version": 3
   },
   "file_extension": ".py",
   "mimetype": "text/x-python",
   "name": "python",
   "nbconvert_exporter": "python",
   "pygments_lexer": "ipython3",
   "version": "3.12.7"
  }
 },
 "nbformat": 4,
 "nbformat_minor": 5
}
