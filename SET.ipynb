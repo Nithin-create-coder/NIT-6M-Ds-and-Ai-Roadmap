{
 "cells": [
  {
   "cell_type": "code",
   "execution_count": 2,
   "id": "1ee141d4-751c-4075-b13f-dc4a390f0dd8",
   "metadata": {},
   "outputs": [
    {
     "name": "stdout",
     "output_type": "stream",
     "text": [
      "{1, 2, 3, 4, 5}\n"
     ]
    }
   ],
   "source": [
    "x={1,2,3,4,5,5}\n",
    "print(x)"
   ]
  },
  {
   "cell_type": "code",
   "execution_count": 5,
   "id": "66b7a84c-e742-4788-9475-4036028081bd",
   "metadata": {},
   "outputs": [
    {
     "data": {
      "text/plain": [
       "{1, 2, 3, 4, 5}"
      ]
     },
     "execution_count": 5,
     "metadata": {},
     "output_type": "execute_result"
    }
   ],
   "source": [
    "x"
   ]
  },
  {
   "cell_type": "code",
   "execution_count": 7,
   "id": "bbd7cb77-abb8-49e2-a530-6faf188f653c",
   "metadata": {},
   "outputs": [
    {
     "data": {
      "text/plain": [
       "5"
      ]
     },
     "execution_count": 7,
     "metadata": {},
     "output_type": "execute_result"
    }
   ],
   "source": [
    "len(x)"
   ]
  },
  {
   "cell_type": "code",
   "execution_count": 9,
   "id": "72db278c-10fe-4ce4-b3ea-d127acc54002",
   "metadata": {},
   "outputs": [
    {
     "name": "stdout",
     "output_type": "stream",
     "text": [
      "{1, 2, 3, 4}\n"
     ]
    }
   ],
   "source": [
    "x={1,1,1,2,3,4,2,1}\n",
    "print(x)"
   ]
  },
  {
   "cell_type": "code",
   "execution_count": 11,
   "id": "afa25e24-5242-45fc-8aa5-b19b450ddbcc",
   "metadata": {},
   "outputs": [
    {
     "name": "stdout",
     "output_type": "stream",
     "text": [
      "{1.23, 1.45}\n"
     ]
    }
   ],
   "source": [
    "x={1.23,1.45}\n",
    "print(x)"
   ]
  },
  {
   "cell_type": "code",
   "execution_count": 13,
   "id": "6f0a914d-c7c2-4a1e-bf34-4b6202950b9c",
   "metadata": {},
   "outputs": [
    {
     "name": "stdout",
     "output_type": "stream",
     "text": [
      "{'wiejbi', 'ie', 'nithin'}\n"
     ]
    }
   ],
   "source": [
    "x={'nithin','ie','wiejbi'}\n",
    "print(x)"
   ]
  },
  {
   "cell_type": "code",
   "execution_count": 15,
   "id": "1460763c-283f-46ec-9054-8c1f9cd1d6da",
   "metadata": {},
   "outputs": [
    {
     "name": "stdout",
     "output_type": "stream",
     "text": [
      "{1, 2, 3, (1, 2, 3)}\n"
     ]
    }
   ],
   "source": [
    "x={1,2,3,(1,2,3)}\n",
    "print(x)"
   ]
  },
  {
   "cell_type": "code",
   "execution_count": 17,
   "id": "7a81e8ef-9a9e-4992-9aaa-3623ab0f68c0",
   "metadata": {},
   "outputs": [
    {
     "name": "stdout",
     "output_type": "stream",
     "text": [
      "<class 'dict'>\n"
     ]
    }
   ],
   "source": [
    "x={}\n",
    "print(type(x))"
   ]
  },
  {
   "cell_type": "code",
   "execution_count": 19,
   "id": "d08fedbf-b94c-458a-b4cb-8dd28e514f84",
   "metadata": {},
   "outputs": [
    {
     "name": "stdout",
     "output_type": "stream",
     "text": [
      "<class 'set'>\n"
     ]
    }
   ],
   "source": [
    "x=set()\n",
    "print(type(x))"
   ]
  },
  {
   "cell_type": "code",
   "execution_count": 21,
   "id": "205f3ee7-f6ea-4df4-b765-a30dd76df3ad",
   "metadata": {},
   "outputs": [
    {
     "name": "stdout",
     "output_type": "stream",
     "text": [
      "{'dnc', 9, 2, 3}\n"
     ]
    }
   ],
   "source": [
    "x=set(('dnc',2,3,9))\n",
    "print(x)"
   ]
  },
  {
   "cell_type": "code",
   "execution_count": null,
   "id": "28c66358-542b-4bf6-9a4e-3ed66a357b52",
   "metadata": {},
   "outputs": [],
   "source": [
    "# loop through a set "
   ]
  },
  {
   "cell_type": "code",
   "execution_count": 23,
   "id": "5a0e867a-406e-4415-954d-7f2f6bf76124",
   "metadata": {},
   "outputs": [
    {
     "name": "stdout",
     "output_type": "stream",
     "text": [
      "four\n",
      "three\n",
      "five\n",
      "two\n",
      "one\n"
     ]
    }
   ],
   "source": [
    "x={'one','two','three','four','five'}\n",
    "for i in x:\n",
    "    print(i)"
   ]
  },
  {
   "cell_type": "code",
   "execution_count": 25,
   "id": "b70ac349-0829-4cd3-8f2f-54c0a4b27aea",
   "metadata": {},
   "outputs": [
    {
     "name": "stdout",
     "output_type": "stream",
     "text": [
      "(0, 'four')\n",
      "(1, 'three')\n",
      "(2, 'five')\n",
      "(3, 'two')\n",
      "(4, 'one')\n"
     ]
    }
   ],
   "source": [
    "for i in enumerate(x):\n",
    "    print(i)"
   ]
  },
  {
   "cell_type": "code",
   "execution_count": 27,
   "id": "c581ee44-7491-47f6-b94c-07cbdbe7f380",
   "metadata": {},
   "outputs": [
    {
     "data": {
      "text/plain": [
       "{'five', 'four', 'one', 'three', 'two'}"
      ]
     },
     "execution_count": 27,
     "metadata": {},
     "output_type": "execute_result"
    }
   ],
   "source": [
    "x"
   ]
  },
  {
   "cell_type": "code",
   "execution_count": 29,
   "id": "eaad181a-9c20-462d-8879-7b841b0966d5",
   "metadata": {},
   "outputs": [
    {
     "data": {
      "text/plain": [
       "True"
      ]
     },
     "execution_count": 29,
     "metadata": {},
     "output_type": "execute_result"
    }
   ],
   "source": [
    "'four' in x\n"
   ]
  },
  {
   "cell_type": "code",
   "execution_count": 31,
   "id": "25668ed1-7d53-4b30-8053-871d378d7535",
   "metadata": {},
   "outputs": [
    {
     "data": {
      "text/plain": [
       "False"
      ]
     },
     "execution_count": 31,
     "metadata": {},
     "output_type": "execute_result"
    }
   ],
   "source": [
    "'ten' in x"
   ]
  },
  {
   "cell_type": "code",
   "execution_count": 33,
   "id": "c91fb6eb-05f9-45a6-bf18-40e7790f70b4",
   "metadata": {},
   "outputs": [
    {
     "name": "stdout",
     "output_type": "stream",
     "text": [
      "three is present in se\n"
     ]
    }
   ],
   "source": [
    "if \"three\" in x:\n",
    "    print('three is present in se')\n",
    "else:\n",
    "    print('three is not present in the set')"
   ]
  },
  {
   "cell_type": "code",
   "execution_count": null,
   "id": "d425ac48-cbfa-4f79-9371-4a40c8cc2809",
   "metadata": {},
   "outputs": [],
   "source": [
    "# ADD & REMOVE ITEMS\n",
    "\n"
   ]
  },
  {
   "cell_type": "code",
   "execution_count": 35,
   "id": "1fd08f6e-4355-4bd4-9cee-67402bd188fd",
   "metadata": {},
   "outputs": [
    {
     "data": {
      "text/plain": [
       "{'five', 'four', 'one', 'three', 'two'}"
      ]
     },
     "execution_count": 35,
     "metadata": {},
     "output_type": "execute_result"
    }
   ],
   "source": [
    "x"
   ]
  },
  {
   "cell_type": "code",
   "execution_count": 39,
   "id": "3eae1302-2b8c-4ea8-aaef-e70ff52427bc",
   "metadata": {},
   "outputs": [
    {
     "data": {
      "text/plain": [
       "{'five', 'four', 'nine', 'one', 'three', 'two'}"
      ]
     },
     "execution_count": 39,
     "metadata": {},
     "output_type": "execute_result"
    }
   ],
   "source": [
    "x.add('nine')\n",
    "x\n"
   ]
  },
  {
   "cell_type": "code",
   "execution_count": 43,
   "id": "4f4229bb-7acc-4af6-b88a-43ea796b4b6b",
   "metadata": {},
   "outputs": [
    {
     "data": {
      "text/plain": [
       "{1, 2, 3, 4, 'e', 'five', 'four', 'n', 'nine', 'one', 't', 'three', 'two'}"
      ]
     },
     "execution_count": 43,
     "metadata": {},
     "output_type": "execute_result"
    }
   ],
   "source": [
    "x.update([1,2,3,4])\n",
    "x"
   ]
  },
  {
   "cell_type": "code",
   "execution_count": 45,
   "id": "61e4e516-d9e4-4cc1-8d1a-c0b38aa1eb13",
   "metadata": {},
   "outputs": [
    {
     "data": {
      "text/plain": [
       "{1, 3, 4, 'e', 'five', 'four', 'n', 'nine', 'one', 't', 'three', 'two'}"
      ]
     },
     "execution_count": 45,
     "metadata": {},
     "output_type": "execute_result"
    }
   ],
   "source": [
    "x.remove(2) # it show erre \n",
    "x"
   ]
  },
  {
   "cell_type": "code",
   "execution_count": 47,
   "id": "17694ee7-ba3a-4faf-85d8-79eb56aee790",
   "metadata": {},
   "outputs": [
    {
     "data": {
      "text/plain": [
       "{1, 3, 4, 'e', 'five', 'four', 'n', 'nine', 'one', 't', 'three', 'two'}"
      ]
     },
     "execution_count": 47,
     "metadata": {},
     "output_type": "execute_result"
    }
   ],
   "source": [
    "x.discard(2) # does not show when element is not there in set\n",
    "x"
   ]
  },
  {
   "cell_type": "code",
   "execution_count": 49,
   "id": "9f166b2a-399e-45f4-aca9-528b73ff437f",
   "metadata": {},
   "outputs": [
    {
     "ename": "KeyError",
     "evalue": "2",
     "output_type": "error",
     "traceback": [
      "\u001b[1;31m---------------------------------------------------------------------------\u001b[0m",
      "\u001b[1;31mKeyError\u001b[0m                                  Traceback (most recent call last)",
      "Cell \u001b[1;32mIn[49], line 1\u001b[0m\n\u001b[1;32m----> 1\u001b[0m x\u001b[38;5;241m.\u001b[39mremove(\u001b[38;5;241m2\u001b[39m) \u001b[38;5;66;03m# it shoe an erre when ele is not in set\u001b[39;00m\n\u001b[0;32m      2\u001b[0m x\n",
      "\u001b[1;31mKeyError\u001b[0m: 2"
     ]
    }
   ],
   "source": [
    "x.remove(2) # it shoe an erre when ele is not in set\n",
    "x"
   ]
  },
  {
   "cell_type": "code",
   "execution_count": 51,
   "id": "db96f6cf-3bc6-41d9-8043-6d35669b93bf",
   "metadata": {},
   "outputs": [
    {
     "data": {
      "text/plain": [
       "set()"
      ]
     },
     "execution_count": 51,
     "metadata": {},
     "output_type": "execute_result"
    }
   ],
   "source": [
    "x.clear()\n",
    "x"
   ]
  },
  {
   "cell_type": "code",
   "execution_count": 53,
   "id": "fa90ac61-9995-4f0c-b6f3-8b86d70a2c7a",
   "metadata": {},
   "outputs": [
    {
     "ename": "NameError",
     "evalue": "name 'x' is not defined",
     "output_type": "error",
     "traceback": [
      "\u001b[1;31m---------------------------------------------------------------------------\u001b[0m",
      "\u001b[1;31mNameError\u001b[0m                                 Traceback (most recent call last)",
      "Cell \u001b[1;32mIn[53], line 2\u001b[0m\n\u001b[0;32m      1\u001b[0m \u001b[38;5;28;01mdel\u001b[39;00m x\n\u001b[1;32m----> 2\u001b[0m x\n",
      "\u001b[1;31mNameError\u001b[0m: name 'x' is not defined"
     ]
    }
   ],
   "source": [
    "del x\n",
    "x"
   ]
  },
  {
   "cell_type": "code",
   "execution_count": null,
   "id": "cdaea8a1-ab2f-465a-8196-4a5f6114316c",
   "metadata": {},
   "outputs": [],
   "source": [
    "# COPY SET "
   ]
  },
  {
   "cell_type": "code",
   "execution_count": 55,
   "id": "180df7dd-dd65-4dcc-806d-8c4023ada614",
   "metadata": {},
   "outputs": [
    {
     "data": {
      "text/plain": [
       "{1, 2, 3, 4, 5, 6, 7}"
      ]
     },
     "execution_count": 55,
     "metadata": {},
     "output_type": "execute_result"
    }
   ],
   "source": [
    "x={1,2,3,4,4,5,6,7}\n",
    "x"
   ]
  },
  {
   "cell_type": "code",
   "execution_count": 61,
   "id": "edc5651c-f60c-493e-9462-b6b8fe573e65",
   "metadata": {},
   "outputs": [
    {
     "data": {
      "text/plain": [
       "{1, 2, 3, 4, 5, 6, 7}"
      ]
     },
     "execution_count": 61,
     "metadata": {},
     "output_type": "execute_result"
    }
   ],
   "source": [
    "y=x\n",
    "y\n"
   ]
  },
  {
   "cell_type": "code",
   "execution_count": 63,
   "id": "11972bf5-bcd7-4cb2-b41a-fcd951833b69",
   "metadata": {},
   "outputs": [
    {
     "data": {
      "text/plain": [
       "2385737718624"
      ]
     },
     "execution_count": 63,
     "metadata": {},
     "output_type": "execute_result"
    }
   ],
   "source": [
    "id (x)"
   ]
  },
  {
   "cell_type": "code",
   "execution_count": 65,
   "id": "b3a4339e-33b7-47a7-80a9-81073add8484",
   "metadata": {},
   "outputs": [
    {
     "data": {
      "text/plain": [
       "{1, 2, 3, 4, 5, 6, 7}"
      ]
     },
     "execution_count": 65,
     "metadata": {},
     "output_type": "execute_result"
    }
   ],
   "source": [
    "c=x.copy()\n",
    "c"
   ]
  },
  {
   "cell_type": "code",
   "execution_count": null,
   "id": "56c540d1-7dbd-4909-8c0b-e9af9ef86145",
   "metadata": {},
   "outputs": [],
   "source": [
    "# set operations \n"
   ]
  },
  {
   "cell_type": "code",
   "execution_count": 67,
   "id": "d4338cca-9863-49ce-87ef-3e71fb7faa5b",
   "metadata": {},
   "outputs": [
    {
     "data": {
      "text/plain": [
       "{3, 4, 5, 12, 23, 24, 45, 54, 454, 24453}"
      ]
     },
     "execution_count": 67,
     "metadata": {},
     "output_type": "execute_result"
    }
   ],
   "source": [
    "x={12,3,4,4,54}\n",
    "y={12,45,24,454,23,24453,5}\n",
    "v={48,789,32,643,3984}\n",
    "x|y"
   ]
  },
  {
   "cell_type": "code",
   "execution_count": 69,
   "id": "0d87f612-93c6-4e90-bd48-fcd1533a6798",
   "metadata": {},
   "outputs": [
    {
     "data": {
      "text/plain": [
       "{3, 4, 12, 54}"
      ]
     },
     "execution_count": 69,
     "metadata": {},
     "output_type": "execute_result"
    }
   ],
   "source": [
    "x.union(y,v)\n",
    "x"
   ]
  },
  {
   "cell_type": "code",
   "execution_count": 71,
   "id": "4d25eae0-b193-4ddf-ae75-063abe7f7833",
   "metadata": {},
   "outputs": [
    {
     "data": {
      "text/plain": [
       "{1, 2, 3, 6, 7}"
      ]
     },
     "execution_count": 71,
     "metadata": {},
     "output_type": "execute_result"
    }
   ],
   "source": [
    "w={1,2,3,45,6,7}\n",
    "e={1,2,3,4,5,6,7,8,9}\n",
    "w.intersection_update(e)\n",
    "w"
   ]
  },
  {
   "cell_type": "code",
   "execution_count": 75,
   "id": "8cc195f4-359f-409a-97c2-aaa9e24c6014",
   "metadata": {},
   "outputs": [
    {
     "data": {
      "text/plain": [
       "{1, 2, 3, 6, 7}"
      ]
     },
     "execution_count": 75,
     "metadata": {},
     "output_type": "execute_result"
    }
   ],
   "source": [
    "r=w.intersection(e)\n",
    "r"
   ]
  },
  {
   "cell_type": "code",
   "execution_count": null,
   "id": "fc1eb9d1-a790-4cc2-b832-e85db7ddb2f0",
   "metadata": {},
   "outputs": [],
   "source": [
    "# Difference \n"
   ]
  },
  {
   "cell_type": "code",
   "execution_count": 77,
   "id": "773c5af6-9c55-4fd4-b468-d5669036ea5a",
   "metadata": {},
   "outputs": [
    {
     "data": {
      "text/plain": [
       "set()"
      ]
     },
     "execution_count": 77,
     "metadata": {},
     "output_type": "execute_result"
    }
   ],
   "source": [
    "w-e"
   ]
  },
  {
   "cell_type": "code",
   "execution_count": 79,
   "id": "62110306-37fb-4d2b-bdd0-dd47d6b7cdf0",
   "metadata": {},
   "outputs": [
    {
     "data": {
      "text/plain": [
       "{0, 4, 7, 8, 9, 12}"
      ]
     },
     "execution_count": 79,
     "metadata": {},
     "output_type": "execute_result"
    }
   ],
   "source": [
    "x={12,3,4,5,8,2,7,9,0,23}\n",
    "y={23,2,3,45,1,2,5,6,78}\n",
    "x.difference(y)"
   ]
  },
  {
   "cell_type": "code",
   "execution_count": 81,
   "id": "ad88d6ea-9bde-4074-9cb1-7f306955ed4e",
   "metadata": {},
   "outputs": [
    {
     "data": {
      "text/plain": [
       "{0, 1, 4, 6, 7, 8, 9, 12, 45, 78}"
      ]
     },
     "execution_count": 81,
     "metadata": {},
     "output_type": "execute_result"
    }
   ],
   "source": [
    "# Symmetric diffrece  means will keep only the elements that are not present in both set \n",
    "x^y"
   ]
  },
  {
   "cell_type": "code",
   "execution_count": null,
   "id": "2424f1d6-e3a7-4070-8a1d-6ff8b631786d",
   "metadata": {},
   "outputs": [],
   "source": [
    "# Subset superset & Disjoint \n"
   ]
  },
  {
   "cell_type": "code",
   "execution_count": 85,
   "id": "24665e6e-1acf-4351-9554-23723f66d9f7",
   "metadata": {},
   "outputs": [
    {
     "data": {
      "text/plain": [
       "False"
      ]
     },
     "execution_count": 85,
     "metadata": {},
     "output_type": "execute_result"
    }
   ],
   "source": [
    "y.issubset(x)\n"
   ]
  },
  {
   "cell_type": "code",
   "execution_count": 87,
   "id": "bce0bf11-2d51-415f-b451-cc1a2e1b6e03",
   "metadata": {},
   "outputs": [
    {
     "data": {
      "text/plain": [
       "False"
      ]
     },
     "execution_count": 87,
     "metadata": {},
     "output_type": "execute_result"
    }
   ],
   "source": [
    "x.isdisjoint(y)"
   ]
  },
  {
   "cell_type": "code",
   "execution_count": null,
   "id": "32e7f54e-0935-444b-9d00-14f9951bffd1",
   "metadata": {},
   "outputs": [],
   "source": [
    "# other builtin function\n"
   ]
  },
  {
   "cell_type": "code",
   "execution_count": 89,
   "id": "ea63c692-ef89-4709-ab0f-12c85d93596a",
   "metadata": {},
   "outputs": [
    {
     "data": {
      "text/plain": [
       "{0, 2, 3, 4, 5, 7, 8, 9, 12, 23}"
      ]
     },
     "execution_count": 89,
     "metadata": {},
     "output_type": "execute_result"
    }
   ],
   "source": [
    "x"
   ]
  },
  {
   "cell_type": "code",
   "execution_count": 91,
   "id": "62bb1b12-6bc1-4bec-b3a0-4484d78131ee",
   "metadata": {},
   "outputs": [
    {
     "ename": "SyntaxError",
     "evalue": "unmatched ')' (1669279902.py, line 1)",
     "output_type": "error",
     "traceback": [
      "\u001b[1;36m  Cell \u001b[1;32mIn[91], line 1\u001b[1;36m\u001b[0m\n\u001b[1;33m    sum9x)\u001b[0m\n\u001b[1;37m         ^\u001b[0m\n\u001b[1;31mSyntaxError\u001b[0m\u001b[1;31m:\u001b[0m unmatched ')'\n"
     ]
    }
   ],
   "source": [
    "sum9x)"
   ]
  },
  {
   "cell_type": "code",
   "execution_count": 93,
   "id": "9ebea211-a5d6-4188-aead-3fab18fd2fd2",
   "metadata": {},
   "outputs": [
    {
     "data": {
      "text/plain": [
       "73"
      ]
     },
     "execution_count": 93,
     "metadata": {},
     "output_type": "execute_result"
    }
   ],
   "source": [
    "sum(x)"
   ]
  },
  {
   "cell_type": "code",
   "execution_count": 95,
   "id": "04259322-e7c9-48c8-bcfa-8c1bcc987352",
   "metadata": {},
   "outputs": [
    {
     "data": {
      "text/plain": [
       "23"
      ]
     },
     "execution_count": 95,
     "metadata": {},
     "output_type": "execute_result"
    }
   ],
   "source": [
    "max(x)"
   ]
  },
  {
   "cell_type": "code",
   "execution_count": 97,
   "id": "a72ea6bc-d551-4009-9293-255e6b3fd282",
   "metadata": {},
   "outputs": [
    {
     "data": {
      "text/plain": [
       "0"
      ]
     },
     "execution_count": 97,
     "metadata": {},
     "output_type": "execute_result"
    }
   ],
   "source": [
    "min(x)"
   ]
  },
  {
   "cell_type": "code",
   "execution_count": 99,
   "id": "f5684849-28c1-4d08-a3f0-f90b15cb96a9",
   "metadata": {},
   "outputs": [
    {
     "data": {
      "text/plain": [
       "10"
      ]
     },
     "execution_count": 99,
     "metadata": {},
     "output_type": "execute_result"
    }
   ],
   "source": [
    "len(x)"
   ]
  },
  {
   "cell_type": "code",
   "execution_count": null,
   "id": "59cecdcf-6fe7-4f94-a237-bd96e3995a5f",
   "metadata": {},
   "outputs": [],
   "source": []
  }
 ],
 "metadata": {
  "kernelspec": {
   "display_name": "Python [conda env:base] *",
   "language": "python",
   "name": "conda-base-py"
  },
  "language_info": {
   "codemirror_mode": {
    "name": "ipython",
    "version": 3
   },
   "file_extension": ".py",
   "mimetype": "text/x-python",
   "name": "python",
   "nbconvert_exporter": "python",
   "pygments_lexer": "ipython3",
   "version": "3.12.7"
  }
 },
 "nbformat": 4,
 "nbformat_minor": 5
}
