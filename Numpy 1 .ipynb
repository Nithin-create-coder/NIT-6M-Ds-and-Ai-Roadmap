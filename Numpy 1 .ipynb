{
 "cells": [
  {
   "cell_type": "code",
   "execution_count": null,
   "id": "85d7276c-fb3d-4653-9941-8039a5976c8d",
   "metadata": {},
   "outputs": [],
   "source": [
    "import numpy as np\n"
   ]
  },
  {
   "cell_type": "code",
   "execution_count": null,
   "id": "868fd0b4-5df7-4ba4-8bf5-90d39debca14",
   "metadata": {},
   "outputs": [],
   "source": [
    "list =[1,2,3,4,5]   # with this list advantageis to create only 1 d array \n",
    "print(list)"
   ]
  },
  {
   "cell_type": "code",
   "execution_count": 3,
   "id": "e454de1b-b3e0-4441-a819-8dddd6949c9d",
   "metadata": {},
   "outputs": [
    {
     "name": "stdout",
     "output_type": "stream",
     "text": [
      "1d array\n",
      "[1 2 3 4 5 8]\n"
     ]
    }
   ],
   "source": [
    "# advantages of numpy is array over list \n",
    "import numpy as np \n",
    "print(\"1d array\")\n",
    "a = np.array([1,2,3,4,5,8])\n",
    "print(a ) "
   ]
  },
  {
   "cell_type": "code",
   "execution_count": 5,
   "id": "1b0bddb2-3a8f-4ca0-93de-3bd71e4d1569",
   "metadata": {},
   "outputs": [
    {
     "name": "stdout",
     "output_type": "stream",
     "text": [
      "2d array\n",
      "[[   1    2    3    4]\n",
      " [1234   44   53   32]]\n"
     ]
    }
   ],
   "source": [
    "print(\"2d array\")\n",
    "import numpy as np\n",
    "c=np.array([[1,2,3,4],[1234,44,53,32]])\n",
    "print(c)\n"
   ]
  },
  {
   "cell_type": "code",
   "execution_count": 7,
   "id": "4681a0b5-cec5-43ef-bef3-e60f97237ed6",
   "metadata": {},
   "outputs": [
    {
     "name": "stdout",
     "output_type": "stream",
     "text": [
      "3d array\n",
      "[[[ 1  2  3  4]\n",
      "  [ 1 34  5 68]\n",
      "  [ 1  2  3  4]]]\n"
     ]
    }
   ],
   "source": [
    "print(\"3d array\")\n",
    "import numpy as np\n",
    "d=np.array([[[1,2,3,4],[1,34,5,68],[1,2,3,4]]])\n",
    "print(d)"
   ]
  },
  {
   "cell_type": "code",
   "execution_count": 9,
   "id": "0c7bbb12-079f-403f-b475-4a239aa6729d",
   "metadata": {},
   "outputs": [
    {
     "data": {
      "text/plain": [
       "numpy.ndarray"
      ]
     },
     "execution_count": 9,
     "metadata": {},
     "output_type": "execute_result"
    }
   ],
   "source": [
    "type(d)"
   ]
  },
  {
   "cell_type": "code",
   "execution_count": 11,
   "id": "a8e8a2a1-c0c5-4cfd-b4ba-f57283c82c97",
   "metadata": {},
   "outputs": [
    {
     "name": "stdout",
     "output_type": "stream",
     "text": [
      "6\n"
     ]
    }
   ],
   "source": [
    "print(a.size)"
   ]
  },
  {
   "cell_type": "code",
   "execution_count": 17,
   "id": "9315cbf4-4ba6-4504-bbbd-1972068616e2",
   "metadata": {},
   "outputs": [
    {
     "name": "stdout",
     "output_type": "stream",
     "text": [
      "(1, 3, 4)\n"
     ]
    }
   ],
   "source": [
    "print(d.shape)"
   ]
  },
  {
   "cell_type": "code",
   "execution_count": 19,
   "id": "f658a96a-d5c4-46d6-8947-0121320a93cf",
   "metadata": {},
   "outputs": [
    {
     "name": "stdout",
     "output_type": "stream",
     "text": [
      "int32\n"
     ]
    }
   ],
   "source": [
    "print(d.dtype)"
   ]
  },
  {
   "cell_type": "code",
   "execution_count": 21,
   "id": "a0d99f16-973b-4530-a3ed-8c28fd0f589c",
   "metadata": {},
   "outputs": [
    {
     "data": {
      "text/plain": [
       "array([[[ 1],\n",
       "        [ 1],\n",
       "        [ 1]],\n",
       "\n",
       "       [[ 2],\n",
       "        [34],\n",
       "        [ 2]],\n",
       "\n",
       "       [[ 3],\n",
       "        [ 5],\n",
       "        [ 3]],\n",
       "\n",
       "       [[ 4],\n",
       "        [68],\n",
       "        [ 4]]])"
      ]
     },
     "execution_count": 21,
     "metadata": {},
     "output_type": "execute_result"
    }
   ],
   "source": [
    "d.transpose()"
   ]
  },
  {
   "cell_type": "code",
   "execution_count": null,
   "id": "a280577b-7e0f-48a3-8156-a8b4121ca834",
   "metadata": {},
   "outputs": [],
   "source": [
    "# numpy is a python library for numeric and scientific computing  it stands for numerical python and consists of mlti dimensional array objects \n",
    "numpy allows you to perform varios operations on array including \n",
    "* array slicing \n",
    "array join \n",
    "array split \n",
    "array reshape \n",
    "array filter \n"
   ]
  },
  {
   "cell_type": "code",
   "execution_count": 23,
   "id": "e57dccce-0c65-4265-a0e2-f076f78e46ea",
   "metadata": {},
   "outputs": [
    {
     "name": "stdout",
     "output_type": "stream",
     "text": [
      "[1 2 3]\n"
     ]
    }
   ],
   "source": [
    "import numpy as np\n",
    "n=np.array((1,2,3))\n",
    "print(n)"
   ]
  },
  {
   "cell_type": "code",
   "execution_count": null,
   "id": "cefc904a-0aa9-4222-8105-baa986e14654",
   "metadata": {},
   "outputs": [],
   "source": [
    "# dimensions of an array in numpy are also called the rank of an array \n",
    "with that we will also see some examples to create 0d , 1d ,2d, arrays \n",
    "create a zero dimensional numpy array \n",
    "create a one dimensional numpy array \n"
   ]
  },
  {
   "cell_type": "code",
   "execution_count": 27,
   "id": "0b51198b-55a8-4bb0-9783-05412e1415a0",
   "metadata": {},
   "outputs": [
    {
     "name": "stdout",
     "output_type": "stream",
     "text": [
      "dimension= 0\n"
     ]
    }
   ],
   "source": [
    "import numpy as np\n",
    "n=np.array(24)\n",
    "print(\"dimension=\" , n.ndim)"
   ]
  },
  {
   "cell_type": "code",
   "execution_count": 31,
   "id": "f3a8b328-74f1-4d1b-af65-005bdf8e75b3",
   "metadata": {},
   "outputs": [
    {
     "name": "stdout",
     "output_type": "stream",
     "text": [
      "[1 2 3 4]\n",
      "1\n"
     ]
    }
   ],
   "source": [
    "import numpy as np\n",
    "n= np.array([1,2,3,4])\n",
    "print(n)\n",
    "print(n.ndim)"
   ]
  },
  {
   "cell_type": "code",
   "execution_count": 35,
   "id": "a91cd88d-bc54-4ebe-bc58-1703f8f38efa",
   "metadata": {},
   "outputs": [
    {
     "name": "stdout",
     "output_type": "stream",
     "text": [
      "[[  12    3    4    5]\n",
      " [1234    3   23   23]]\n",
      "2\n"
     ]
    }
   ],
   "source": [
    "import numpy as np\n",
    "d = np.array([[12,3,4,5],[1234,3,23,23]])\n",
    "print(d)\n",
    "print(d.ndim)"
   ]
  },
  {
   "cell_type": "code",
   "execution_count": 37,
   "id": "a93044a4-d9c0-42cf-9e25-94e269f02a85",
   "metadata": {},
   "outputs": [
    {
     "name": "stdout",
     "output_type": "stream",
     "text": [
      "[[[[[4]]]]]\n",
      "5\n"
     ]
    }
   ],
   "source": [
    "import numpy as np\n",
    "d = np.array([[[[[4]]]]])\n",
    "print(d)\n",
    "print(d.ndim)"
   ]
  },
  {
   "cell_type": "code",
   "execution_count": null,
   "id": "e9997085-ee47-4afd-a665-7300532340e5",
   "metadata": {},
   "outputs": [],
   "source": [
    "# initialize numpy arrays \n",
    "to initialize numpy arrays we can use the numpy.zero() method useing this method initialize numpy array with zero \n"
   ]
  },
  {
   "cell_type": "code",
   "execution_count": 41,
   "id": "7ed93c9f-3e88-4b61-85c5-13046a6bd368",
   "metadata": {},
   "outputs": [
    {
     "name": "stdout",
     "output_type": "stream",
     "text": [
      "[[0. 0. 0.]\n",
      " [0. 0. 0.]]\n",
      "<class 'numpy.ndarray'>\n"
     ]
    }
   ],
   "source": [
    "import numpy as np\n",
    "n=np.zeros([2,3])\n",
    "print(n)\n",
    "print(type(n))"
   ]
  },
  {
   "cell_type": "code",
   "execution_count": 43,
   "id": "ad20a519-9d6d-4fbb-9c87-1e719b9cce5b",
   "metadata": {},
   "outputs": [
    {
     "name": "stdout",
     "output_type": "stream",
     "text": [
      "[[0. 0. 0. 0.]\n",
      " [0. 0. 0. 0.]\n",
      " [0. 0. 0. 0.]\n",
      " [0. 0. 0. 0.]]\n"
     ]
    }
   ],
   "source": [
    "import numpy as np\n",
    "n=np.zeros([4,4])\n",
    "print(n)"
   ]
  },
  {
   "cell_type": "code",
   "execution_count": null,
   "id": "2dc57154-027d-4349-9502-f178792c2442",
   "metadata": {},
   "outputs": [],
   "source": [
    "# data types in numpy \n",
    "python numpy supports the folloing data types \n",
    "b - boolean \n",
    "u unsigned integer \n",
    "f float \n",
    "c complex float \n",
    "m time delta \n",
    "M- datetime \n",
    "s string \n",
    "\n",
    "# let us see some exMPLE \n",
    "get the datatype of a numpy array with integer \n",
    "get the data type ofa numpy array with string \n",
    "set the dattype size within a numpy array \n",
    "convert one datatype to another \n"
   ]
  },
  {
   "cell_type": "code",
   "execution_count": 47,
   "id": "9f49154d-632f-42a9-b726-6b9764fb5d35",
   "metadata": {},
   "outputs": [
    {
     "name": "stdout",
     "output_type": "stream",
     "text": [
      "int32\n"
     ]
    }
   ],
   "source": [
    "import numpy as np\n",
    "n = np.array([1,2,3,4])\n",
    "print(n.dtype)"
   ]
  },
  {
   "cell_type": "code",
   "execution_count": 49,
   "id": "1bcaa8cc-ff53-4e24-83ed-751049b39c07",
   "metadata": {},
   "outputs": [
    {
     "name": "stdout",
     "output_type": "stream",
     "text": [
      "['amit' 'rohit' 'asjn' 'adjbc']\n",
      "<U5\n"
     ]
    }
   ],
   "source": [
    "import numpy as np\n",
    "n = np.array(['amit','rohit','asjn','adjbc'])\n",
    "print(n)\n",
    "print(n.dtype)"
   ]
  },
  {
   "cell_type": "code",
   "execution_count": 53,
   "id": "d98979f1-f8db-4935-b48b-245315174f68",
   "metadata": {},
   "outputs": [
    {
     "name": "stdout",
     "output_type": "stream",
     "text": [
      "['10' '23' '23']\n",
      "<U2\n"
     ]
    }
   ],
   "source": [
    "import numpy as np\n",
    "n=np.array(['10','23','23'])\n",
    "print(n)\n",
    "print(n.dtype)\n",
    "n2=n.astype('i')"
   ]
  },
  {
   "cell_type": "code",
   "execution_count": null,
   "id": "9edb7c90-63ce-49f5-914a-073b91cb1dae",
   "metadata": {},
   "outputs": [],
   "source": [
    "#Numpy array indexing \n",
    "array indexing is accessing array elements in numpy access an array element using the index number \n"
   ]
  },
  {
   "cell_type": "code",
   "execution_count": null,
   "id": "a3d02365-c1f3-49ed-b082-ae1a2ab63710",
   "metadata": {},
   "outputs": [],
   "source": [
    "index 0 element 1 \n",
    "index 1 element 2 so on \n",
    "\n",
    "# example 1 Access the 1st elemrnt (index 0) from a one dimensional array \n",
    "# example 2 Access the 4 th element (index 3 ) from a one domensional\n"
   ]
  },
  {
   "cell_type": "code",
   "execution_count": 55,
   "id": "e15af246-f043-4229-9241-9bfa79af5b63",
   "metadata": {},
   "outputs": [
    {
     "name": "stdout",
     "output_type": "stream",
     "text": [
      "[10 20 30 40]\n",
      "10\n"
     ]
    }
   ],
   "source": [
    "\n",
    "import numpy as np\n",
    "n=np.array([10,20,30,40])\n",
    "print(n)\n",
    "print(n[0])"
   ]
  },
  {
   "cell_type": "code",
   "execution_count": 57,
   "id": "22b006ad-3a6b-4039-baa7-ff90c95bde0b",
   "metadata": {},
   "outputs": [
    {
     "name": "stdout",
     "output_type": "stream",
     "text": [
      "78\n"
     ]
    }
   ],
   "source": [
    "# index in 1d array \n",
    "import numpy as np\n",
    "n=np.array([12,23,45,67,78])\n",
    "print(n[4])"
   ]
  },
  {
   "cell_type": "code",
   "execution_count": 61,
   "id": "3b31db15-30ac-4c73-8292-78d18bf82a85",
   "metadata": {},
   "outputs": [
    {
     "name": "stdout",
     "output_type": "stream",
     "text": [
      "[[ 1  2  3  4]\n",
      " [12 34 12 45]]\n",
      "2\n",
      "45\n"
     ]
    }
   ],
   "source": [
    "\n",
    "# now indexing in 2d array \n",
    "import numpy as np\n",
    "n=np.array([[1,2,3,4],[12,34,12,45]])\n",
    "print(n)\n",
    "print(n[0,1])\n",
    "print(n[1,3])\n"
   ]
  },
  {
   "cell_type": "code",
   "execution_count": 77,
   "id": "1b4fc28e-2bde-4d16-8f60-4bd8317503ca",
   "metadata": {},
   "outputs": [
    {
     "name": "stdout",
     "output_type": "stream",
     "text": [
      "3\n"
     ]
    }
   ],
   "source": [
    "# now indexing in 3d array \n",
    "import numpy as np\n",
    "n = np.array([[[1,2,3,4],[12,23,45,67],[21,31,41,51]]])\n",
    "print(n.ndim)\n"
   ]
  },
  {
   "cell_type": "code",
   "execution_count": 79,
   "id": "04133c79-5fb9-4eb7-bed1-b5bfe126d81a",
   "metadata": {},
   "outputs": [
    {
     "name": "stdout",
     "output_type": "stream",
     "text": [
      "[[[ 2  3  5]\n",
      "  [ 2  3  4]]\n",
      "\n",
      " [[32 45 78]\n",
      "  [89 34 23]]]\n",
      "2\n",
      "3\n"
     ]
    }
   ],
   "source": [
    "import numpy as np\n",
    "n=np.array([[[2,3,5],[2,3,4]],[[32,45,78],[89,34,23]]])\n",
    "print(n)\n",
    "print(n[0,0,0])\n",
    "print(n[0,0,1])"
   ]
  },
  {
   "cell_type": "code",
   "execution_count": null,
   "id": "89168ec9-dcac-4819-87fe-66b059155cfc",
   "metadata": {},
   "outputs": [],
   "source": [
    "# access the last element from a 1d array with negative indexing \n",
    "# Access the last element from a 2d array with negative indexing \n"
   ]
  },
  {
   "cell_type": "code",
   "execution_count": 81,
   "id": "1984c7ac-6749-4059-8461-0ed5fd7dc1ab",
   "metadata": {},
   "outputs": [
    {
     "name": "stdout",
     "output_type": "stream",
     "text": [
      "last elemnent= 4\n"
     ]
    }
   ],
   "source": [
    "import numpy as np\n",
    "n=np.array([2,3,4])\n",
    "print(\"last elemnent=\",n[-1])"
   ]
  },
  {
   "cell_type": "code",
   "execution_count": 83,
   "id": "a331708d-b405-4cc5-8ec9-9fe4b23f992d",
   "metadata": {},
   "outputs": [
    {
     "name": "stdout",
     "output_type": "stream",
     "text": [
      "[[ 1  2  3]\n",
      " [34 23 67]]\n",
      "3\n",
      "67\n"
     ]
    }
   ],
   "source": [
    "# 2d array with negative indexing \n",
    "import numpy as np\n",
    "n=np.array([[1,2,3],[34,23,67]])\n",
    "print(n)\n",
    "print(n[0,-1])\n",
    "print(n[1,-1])"
   ]
  },
  {
   "cell_type": "code",
   "execution_count": null,
   "id": "5a95cbb0-2c93-4fcb-8f42-e9a5d828af78",
   "metadata": {},
   "outputs": [],
   "source": [
    "# numpy slicing \n",
    "slicing the array in a range from start to end is what we call array slicing \n"
   ]
  },
  {
   "cell_type": "code",
   "execution_count": null,
   "id": "fdbf7b67-b0ac-4275-b625-d6b541d4b9b9",
   "metadata": {},
   "outputs": [],
   "source": [
    "# arr[start:end]\n",
    "the following array slicing example we will run\n",
    "slicing from index 1 to 3 \n",
    "slicing from index 2 to 5 \n",
    "slicing from 5 to last \n",
    "slicing from the begining to index 5 \n"
   ]
  },
  {
   "cell_type": "code",
   "execution_count": 87,
   "id": "35e7c505-3aed-43f7-8f4f-dd560f71f2d5",
   "metadata": {},
   "outputs": [
    {
     "name": "stdout",
     "output_type": "stream",
     "text": [
      "[ 23 232]\n"
     ]
    }
   ],
   "source": [
    "import numpy as np\n",
    "n=np.array([20,23,232,234,123,543,322,123,24])\n",
    "print(n[1:3])"
   ]
  },
  {
   "cell_type": "code",
   "execution_count": 89,
   "id": "81c798db-6c84-4682-b826-309cc17f6f48",
   "metadata": {},
   "outputs": [
    {
     "name": "stdout",
     "output_type": "stream",
     "text": [
      "[232 234 123]\n"
     ]
    }
   ],
   "source": [
    "import numpy as np\n",
    "d = np.array([12,1,2,34,5,67])\n",
    "print(n[2:5])"
   ]
  },
  {
   "cell_type": "code",
   "execution_count": 93,
   "id": "2789e3ba-efc4-4271-9c43-a5ae1081dad6",
   "metadata": {},
   "outputs": [
    {
     "name": "stdout",
     "output_type": "stream",
     "text": [
      "[67  8 90]\n"
     ]
    }
   ],
   "source": [
    "import numpy as np\n",
    "n=np.array([1,2,3,4,5,67,8,90])\n",
    "print(n[5:])"
   ]
  },
  {
   "cell_type": "code",
   "execution_count": 97,
   "id": "92309ef3-07d9-4910-aee2-5206a6fde9f3",
   "metadata": {},
   "outputs": [
    {
     "name": "stdout",
     "output_type": "stream",
     "text": [
      "[1 2 3 4 5]\n"
     ]
    }
   ],
   "source": [
    "import numpy as np\n",
    "n=np.array([1,2,3,4,5,6,7,8,9,9])\n",
    "print(n[:5])"
   ]
  },
  {
   "cell_type": "code",
   "execution_count": null,
   "id": "4cd502fb-ea85-4035-a3ff-7b1296777791",
   "metadata": {},
   "outputs": [],
   "source": [
    "# we can also include steps while slicing step means a jup of elements if the step is 2 that means 2 jumps for the next element "
   ]
  },
  {
   "cell_type": "code",
   "execution_count": null,
   "id": "c782bf90-bc6e-451b-a1ea-70779b61995d",
   "metadata": {},
   "outputs": [],
   "source": [
    "arr[star:end:step]"
   ]
  },
  {
   "cell_type": "code",
   "execution_count": 101,
   "id": "0e029598-ce2d-41e2-b982-12c45fb24573",
   "metadata": {},
   "outputs": [
    {
     "name": "stdout",
     "output_type": "stream",
     "text": [
      "[23 45]\n"
     ]
    }
   ],
   "source": [
    "import numpy as np\n",
    "c = np.array([1,23,4,45,6,767])\n",
    "print(c[1:5:2])"
   ]
  },
  {
   "cell_type": "code",
   "execution_count": null,
   "id": "07ed2d75-3055-4f87-af4c-c29801aefc1d",
   "metadata": {},
   "outputs": [],
   "source": [
    "the following are the example to slice two  dimensional arrays \n",
    "@ slicing from index 2 to 5 \n",
    "@ slicing for both the dimensions \n"
   ]
  },
  {
   "cell_type": "code",
   "execution_count": 103,
   "id": "372ac8b1-8005-4077-84b5-48960e73509d",
   "metadata": {},
   "outputs": [
    {
     "ename": "ValueError",
     "evalue": "setting an array element with a sequence. The requested array has an inhomogeneous shape after 1 dimensions. The detected shape was (2,) + inhomogeneous part.",
     "output_type": "error",
     "traceback": [
      "\u001b[1;31m------------------------------------------------------------------------\u001b[0m",
      "\u001b[1;31mValueError\u001b[0m                             Traceback (most recent call last)",
      "Cell \u001b[1;32mIn[103], line 2\u001b[0m\n\u001b[0;32m      1\u001b[0m \u001b[38;5;28;01mimport\u001b[39;00m \u001b[38;5;21;01mnumpy\u001b[39;00m \u001b[38;5;28;01mas\u001b[39;00m \u001b[38;5;21;01mnp\u001b[39;00m\n\u001b[1;32m----> 2\u001b[0m s\u001b[38;5;241m=\u001b[39mnp\u001b[38;5;241m.\u001b[39marray([[\u001b[38;5;241m1\u001b[39m,\u001b[38;5;241m2\u001b[39m,\u001b[38;5;241m3\u001b[39m,\u001b[38;5;241m4\u001b[39m,\u001b[38;5;241m5\u001b[39m,\u001b[38;5;241m6\u001b[39m,\u001b[38;5;241m6\u001b[39m],[\u001b[38;5;241m1\u001b[39m,\u001b[38;5;241m2\u001b[39m,\u001b[38;5;241m3\u001b[39m,\u001b[38;5;241m4\u001b[39m,\u001b[38;5;241m5\u001b[39m,\u001b[38;5;241m54\u001b[39m]])\n\u001b[0;32m      3\u001b[0m \u001b[38;5;28mprint\u001b[39m(s[\u001b[38;5;241m0\u001b[39m,\u001b[38;5;241m2\u001b[39m:\u001b[38;5;241m5\u001b[39m])\n",
      "\u001b[1;31mValueError\u001b[0m: setting an array element with a sequence. The requested array has an inhomogeneous shape after 1 dimensions. The detected shape was (2,) + inhomogeneous part."
     ]
    }
   ],
   "source": [
    "import numpy as np\n",
    "s=np.array([[1,2,3,4,5,6,6],[1,2,3,4,5,54]])\n",
    "print(s[0,2:5])\n"
   ]
  },
  {
   "cell_type": "code",
   "execution_count": null,
   "id": "9d3c253c-2bba-4419-b4b4-d7f9f15d8e07",
   "metadata": {},
   "outputs": [],
   "source": [
    "# numpy isa python library used for working with arrays \n",
    "numpy stands for nuerical python \n",
    "# WHY use numpy\n",
    "in python we have list that serve the purpose of arrays but they are sloww to processs \n",
    "\n",
    "Numpy is 50x faster than the list \n",
    "@ the array object is called ndarray \n",
    "\n",
    "\n"
   ]
  },
  {
   "cell_type": "code",
   "execution_count": null,
   "id": "877336da-02f2-4a56-8512-a9433e779aab",
   "metadata": {},
   "outputs": [],
   "source": [
    "# why is numpy faster than lists\n",
    "numpy arrays are stored at one continuous place in memory unlike list "
   ]
  },
  {
   "cell_type": "code",
   "execution_count": 2,
   "id": "5720b077-4912-467f-9304-f2f29cb1464a",
   "metadata": {},
   "outputs": [
    {
     "name": "stdout",
     "output_type": "stream",
     "text": [
      "1.26.4\n"
     ]
    }
   ],
   "source": [
    "# checking numpy version \n",
    "#--version--\n",
    "import numpy as np\n",
    "print(np.__version__)\n"
   ]
  },
  {
   "cell_type": "code",
   "execution_count": 6,
   "id": "c6821370-e69e-4234-ab11-b17769ec823c",
   "metadata": {},
   "outputs": [
    {
     "name": "stdout",
     "output_type": "stream",
     "text": [
      "[[[1 2 3]\n",
      "  [4 5 6]]\n",
      "\n",
      " [[1 2 3]\n",
      "  [5 6 7]]]\n",
      "3\n"
     ]
    }
   ],
   "source": [
    "# the aarray object in numpy is called ndarray \n",
    "import numpy as np \n",
    "c=np.array([[[1,2,3],[4,5,6]],[[1,2,3],[5,6,7]]])\n",
    "print(c)\n",
    "print(c.ndim)"
   ]
  },
  {
   "cell_type": "code",
   "execution_count": 10,
   "id": "7ac86495-29b7-4a5d-b45e-3b50ae9d88b9",
   "metadata": {},
   "outputs": [
    {
     "name": "stdout",
     "output_type": "stream",
     "text": [
      "[[[ 1 23  4]]\n",
      "\n",
      " [[12 34 55]]]\n",
      "3\n"
     ]
    }
   ],
   "source": [
    "import numpy as np \n",
    "c=np.array([[[1,23,4]],[[12,34,55]]])\n",
    "\n",
    "print(c)\n",
    "print(c.ndim)"
   ]
  },
  {
   "cell_type": "code",
   "execution_count": null,
   "id": "67ecb225-a1b3-486a-9ea1-48ecc7b4ae6b",
   "metadata": {},
   "outputs": [],
   "source": [
    "# higher dimensional arrays \n",
    "an array can have any number of dimensions\n",
    "we can create the number of dimensions by usinf=g the ndim\n"
   ]
  },
  {
   "cell_type": "code",
   "execution_count": 16,
   "id": "c8009368-154e-41ec-ab7d-5fec77073e51",
   "metadata": {},
   "outputs": [
    {
     "name": "stdout",
     "output_type": "stream",
     "text": [
      "[[[[[1 2 3 4 4]]]]]\n"
     ]
    }
   ],
   "source": [
    "# createing 5 dimension \n",
    "import numpy as np\n",
    "arr = np.array([1,2,3,4,4], ndmin=5)\n",
    "print(arr)\n"
   ]
  },
  {
   "cell_type": "code",
   "execution_count": null,
   "id": "a0a31b28-1b14-45b7-9c0b-43519602ced4",
   "metadata": {},
   "outputs": [],
   "source": [
    "# numpy array indexing \n",
    "Access array elements \n",
    "array indexing is the same eas accessing an array element \n"
   ]
  },
  {
   "cell_type": "code",
   "execution_count": 18,
   "id": "6f8e5133-9e57-4449-8e13-f9e79e3e83cb",
   "metadata": {},
   "outputs": [
    {
     "name": "stdout",
     "output_type": "stream",
     "text": [
      "1\n"
     ]
    }
   ],
   "source": [
    "import numpy as np\n",
    "arr = np.array([1,2,3,5])\n",
    "print(arr[0])"
   ]
  },
  {
   "cell_type": "code",
   "execution_count": 20,
   "id": "9935e9a2-948c-4f0d-b91d-c289bbb9a86e",
   "metadata": {},
   "outputs": [
    {
     "name": "stdout",
     "output_type": "stream",
     "text": [
      "3\n"
     ]
    }
   ],
   "source": [
    "import numpy as np\n",
    "arr = np.array([1,2,3,5])\n",
    "print(arr[2])"
   ]
  },
  {
   "cell_type": "code",
   "execution_count": null,
   "id": "c8e54b87-8721-44c3-905d-2b4cb6c9621d",
   "metadata": {},
   "outputs": [],
   "source": [
    "import numpy as np\n",
    "arr = np.array([1,2,3,5])\n",
    "print(arr[0] + array[1]))"
   ]
  },
  {
   "cell_type": "code",
   "execution_count": 22,
   "id": "d032ef2e-12ea-4b58-aacd-cde3adc294ef",
   "metadata": {},
   "outputs": [
    {
     "name": "stdout",
     "output_type": "stream",
     "text": [
      "2nd element on 1st row  2\n"
     ]
    }
   ],
   "source": [
    "# Access 2-d arrays \n",
    "import numpy as np\n",
    "arr = np.array([[1,2,3,4],[6,7,8,9]])\n",
    "print('2nd element on 1st row ',arr[0,1])"
   ]
  },
  {
   "cell_type": "code",
   "execution_count": 26,
   "id": "d6f324c8-87db-4133-bea0-c434d84b8336",
   "metadata": {},
   "outputs": [
    {
     "name": "stdout",
     "output_type": "stream",
     "text": [
      "12\n"
     ]
    }
   ],
   "source": [
    "# Access 3-d arrays \n",
    "# to access elements from 3-d arrays we can use comma separated integers representaing the dimensions \n",
    "import numpy as np\n",
    "arr = np.array([[[1,2,3],[4,5,6]],[[7,8,9],[10,11,12]]])\n",
    "print(arr[1,1,2])\n",
    "\n"
   ]
  },
  {
   "cell_type": "code",
   "execution_count": 28,
   "id": "50fc5e93-46da-44ef-8606-12acb6b11b44",
   "metadata": {},
   "outputs": [
    {
     "name": "stdout",
     "output_type": "stream",
     "text": [
      "last element from 2nd dim: 10\n"
     ]
    }
   ],
   "source": [
    "# negative indexing \n",
    "# use negative indexing to access an array from the end \n",
    "import numpy as np\n",
    "arr = np.array([[1,2,3,4,5],[6,7,8,9,10]])\n",
    "print('last element from 2nd dim:',arr[1,-1])"
   ]
  },
  {
   "cell_type": "code",
   "execution_count": null,
   "id": "bf887b92-ad9f-4e62-8905-771037fc3d39",
   "metadata": {},
   "outputs": [],
   "source": [
    "# Numpy array slicing \n",
    "Slicing in python means takeing  elements from one given index to another given index \n",
    "we pass slice instead of index like this [start:end]\n",
    "wwe can also define the step like this [start:end:step]\n"
   ]
  },
  {
   "cell_type": "code",
   "execution_count": 30,
   "id": "f8081a2b-e989-449b-8cda-261ab930606c",
   "metadata": {},
   "outputs": [
    {
     "name": "stdout",
     "output_type": "stream",
     "text": [
      "[2 3 4 5]\n"
     ]
    }
   ],
   "source": [
    "import numpy as np\n",
    "arr = np.array([1,2,3,4,5,6,7,8,9,10])\n",
    "print(arr[1:5])"
   ]
  },
  {
   "cell_type": "code",
   "execution_count": 32,
   "id": "808b7e4b-7292-455e-b9d0-6a6664dfe7af",
   "metadata": {},
   "outputs": [
    {
     "name": "stdout",
     "output_type": "stream",
     "text": [
      "[ 5  6  7 89 10]\n"
     ]
    }
   ],
   "source": [
    "import numpy as np\n",
    "arr = np.array([1,2,3,4,5,6,7,89,10])\n",
    "print(arr[4:])"
   ]
  },
  {
   "cell_type": "code",
   "execution_count": 34,
   "id": "84a88a11-4680-4342-aaec-958a051645d7",
   "metadata": {},
   "outputs": [
    {
     "name": "stdout",
     "output_type": "stream",
     "text": [
      "[2 5]\n"
     ]
    }
   ],
   "source": [
    "import numpy as np\n",
    "arr = np.array([1,2,3,4,5,6,7,8,9,10])\n",
    "print(arr[1:7:3])\n"
   ]
  },
  {
   "cell_type": "code",
   "execution_count": 36,
   "id": "e8b20a8f-3ae5-473b-88f3-b9c3b1805d8c",
   "metadata": {},
   "outputs": [
    {
     "name": "stdout",
     "output_type": "stream",
     "text": [
      "[6 7 8 9]\n"
     ]
    }
   ],
   "source": [
    "# slicing 2 d array \n",
    "import numpy as np\n",
    "arr = np.array([[1,2,3,4,5],[6,7,8,9,10]])\n",
    "print(arr[1,:4])"
   ]
  },
  {
   "cell_type": "code",
   "execution_count": 38,
   "id": "dc42be7b-d663-470d-9642-d6ba85066780",
   "metadata": {},
   "outputs": [
    {
     "name": "stdout",
     "output_type": "stream",
     "text": [
      "[3 8]\n"
     ]
    }
   ],
   "source": [
    "import numpy as np\n",
    "arr = np.array([[1,2,3,4,5],[6,7,8,9,12]])\n",
    "print(arr[0:2,2])"
   ]
  },
  {
   "cell_type": "code",
   "execution_count": 40,
   "id": "b6273fe4-9188-4c13-bc6e-adc9044bbefe",
   "metadata": {},
   "outputs": [
    {
     "name": "stdout",
     "output_type": "stream",
     "text": [
      "[42  2  3  4  5]\n",
      "[1 2 3 4 5]\n"
     ]
    }
   ],
   "source": [
    "# difference between copy and view \n",
    "# the main difference between a copy and a view of an array is that the copy is a new array and the view is just a view of the origina; array \n",
    "import numpy as np\n",
    "arr= np.array([1,2,3,4,5])\n",
    "x = arr.copy()\n",
    "arr[0]=42\n",
    "print(arr)\n",
    "print(x)\n",
    "# copy should not be addected by the chages made to the original array"
   ]
  },
  {
   "cell_type": "code",
   "execution_count": 42,
   "id": "94e9f23b-114b-4003-87d4-8c4bd5afe62a",
   "metadata": {},
   "outputs": [
    {
     "name": "stdout",
     "output_type": "stream",
     "text": [
      "[42  2  3  5  6  7]\n",
      "[42  2  3  5  6  7]\n"
     ]
    }
   ],
   "source": [
    "import numpy as np\n",
    "arr = np.array([1,2,3,5,6,7])\n",
    "x = arr.view()\n",
    "arr[0]=42\n",
    "print(arr)\n",
    "print(x)"
   ]
  },
  {
   "cell_type": "code",
   "execution_count": null,
   "id": "d7cd97f9-5e13-49f5-8ae2-1015162a909c",
   "metadata": {},
   "outputs": [],
   "source": []
  }
 ],
 "metadata": {
  "kernelspec": {
   "display_name": "Python [conda env:base] *",
   "language": "python",
   "name": "conda-base-py"
  },
  "language_info": {
   "codemirror_mode": {
    "name": "ipython",
    "version": 3
   },
   "file_extension": ".py",
   "mimetype": "text/x-python",
   "name": "python",
   "nbconvert_exporter": "python",
   "pygments_lexer": "ipython3",
   "version": "3.12.7"
  }
 },
 "nbformat": 4,
 "nbformat_minor": 5
}
