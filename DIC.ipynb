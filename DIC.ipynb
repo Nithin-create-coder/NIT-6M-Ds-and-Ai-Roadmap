{
 "cells": [
  {
   "cell_type": "code",
   "execution_count": 2,
   "id": "b0a2a054-544a-4fc4-ba3a-63a03beb9854",
   "metadata": {},
   "outputs": [
    {
     "data": {
      "text/plain": [
       "{}"
      ]
     },
     "execution_count": 2,
     "metadata": {},
     "output_type": "execute_result"
    }
   ],
   "source": [
    "x={}\n",
    "x"
   ]
  },
  {
   "cell_type": "code",
   "execution_count": 4,
   "id": "3862fa74-721d-493f-9e9d-100ee75c6f30",
   "metadata": {},
   "outputs": [
    {
     "name": "stdout",
     "output_type": "stream",
     "text": [
      "<class 'dict'>\n"
     ]
    }
   ],
   "source": [
    "print(type(x))"
   ]
  },
  {
   "cell_type": "code",
   "execution_count": null,
   "id": "afc6cc8d-1dea-4b0b-8995-065cd5abcb88",
   "metadata": {},
   "outputs": [],
   "source": [
    "x={\n",
    "    \" brand\": \"ford\",\n",
    "    \"model\": \"mustang\",\n",
    "    \"year\" : 1964\n",
    "}\n",
    "# a dictionary is a collection which is orderd changeable and do not allo duplicates"
   ]
  },
  {
   "cell_type": "code",
   "execution_count": 6,
   "id": "7f01bf5e-e89c-4c26-95b6-b56027b6993e",
   "metadata": {},
   "outputs": [
    {
     "name": "stdout",
     "output_type": "stream",
     "text": [
      "{'brand': 'ford', 'model': 'mustang', 'year': 1934}\n"
     ]
    }
   ],
   "source": [
    "x={\n",
    "    \"brand\" : \"ford\",\n",
    "    \"model\":\"mustang\",\n",
    "    \"year\":1934}\n",
    "print(x)"
   ]
  },
  {
   "cell_type": "code",
   "execution_count": 8,
   "id": "151b3d20-dad9-4d86-9dd9-e87ffb7929f2",
   "metadata": {},
   "outputs": [
    {
     "name": "stdout",
     "output_type": "stream",
     "text": [
      "ford\n"
     ]
    }
   ],
   "source": [
    "x={\n",
    "    \"brand\" : \"ford\",\n",
    "    \"model\":\"mustang\",\n",
    "    \"year\":1934}\n",
    "print(x[\"brand\"])"
   ]
  },
  {
   "cell_type": "code",
   "execution_count": 10,
   "id": "f6445653-6f59-4e1f-b200-86be0adde0d5",
   "metadata": {},
   "outputs": [
    {
     "name": "stdout",
     "output_type": "stream",
     "text": [
      "{'brand': 'ford', 'model': 'mustang', 'year': 2020}\n"
     ]
    }
   ],
   "source": [
    "# Duplicates not allowed\n",
    "x={\n",
    "    \"brand\" : \"ford\",\n",
    "    \"model\":\"mustang\",\n",
    "    \"year\":1934,\n",
    "\"year\":2020}\n",
    "print(x)"
   ]
  },
  {
   "cell_type": "code",
   "execution_count": 12,
   "id": "5acf9916-2be0-4b98-8473-64262cd61aaf",
   "metadata": {},
   "outputs": [
    {
     "name": "stdout",
     "output_type": "stream",
     "text": [
      "3\n"
     ]
    }
   ],
   "source": [
    "# dic length \n",
    "x={\n",
    "    \"brand\" : \"ford\",\n",
    "    \"model\":\"mustang\",\n",
    "    \"year\":1934}\n",
    "print(len(x))"
   ]
  },
  {
   "cell_type": "code",
   "execution_count": 14,
   "id": "88922291-6117-41ba-9a8e-024ac4cf8035",
   "metadata": {},
   "outputs": [
    {
     "name": "stdout",
     "output_type": "stream",
     "text": [
      "{'brand': 'ford', 'model': 'mustang', 'year': 1934, 'color': ['red', 'yellow', 'blue']}\n"
     ]
    }
   ],
   "source": [
    "# dic items data types \n",
    "# the values in dictionary items can be of any data type:\n",
    "x={\n",
    "    \"brand\" : \"ford\",\n",
    "    \"model\":\"mustang\",\n",
    "    \"year\":1934, \n",
    "    \"color\":['red','yellow','blue']\n",
    "    \n",
    "    \n",
    "\n",
    "}\n",
    "print(x)\n"
   ]
  },
  {
   "cell_type": "code",
   "execution_count": null,
   "id": "83484680-adf5-4460-879e-f6e6cc0addbe",
   "metadata": {},
   "outputs": [],
   "source": [
    "# the dict() constructor \n",
    "it also possible to use the dict() contructor to make a dictionary \n"
   ]
  },
  {
   "cell_type": "code",
   "execution_count": 16,
   "id": "7b038adc-d4ed-409a-beab-1afff041ca95",
   "metadata": {},
   "outputs": [
    {
     "name": "stdout",
     "output_type": "stream",
     "text": [
      "{'name': 'john', 'age': 36, 'country': 'norway'}\n"
     ]
    }
   ],
   "source": [
    "x=dict(name=\"john\" , age=36,country=\"norway\")\n",
    "print(x)"
   ]
  },
  {
   "cell_type": "code",
   "execution_count": null,
   "id": "c2003798-72f6-4ee0-8081-a2b5bf6ab2de",
   "metadata": {},
   "outputs": [],
   "source": [
    "Python Collections (Arrays)\n",
    "There are four collection data types in the Python programming language:\n",
    "\n",
    "List is a collection which is ordered and changeable. Allows duplicate members.\n",
    "Tuple is a collection which is ordered and unchangeable. Allows duplicate members.\n",
    "Set is a collection which is unordered, unchangeable*, and unindexed. No duplicate members.\n",
    "Dictionary is a collection which is ordered** and changeable. No duplicate members."
   ]
  },
  {
   "cell_type": "code",
   "execution_count": 18,
   "id": "3ce5dfe8-f977-4a5b-ba70-5480b469ba75",
   "metadata": {},
   "outputs": [
    {
     "name": "stdout",
     "output_type": "stream",
     "text": [
      "mustang\n"
     ]
    }
   ],
   "source": [
    "# python access dict  You can access the items of a dictionary by referring to its key name, inside square brackets:\n",
    "x={\n",
    "    \"brand\" : \"ford\",\n",
    "    \"model\":\"mustang\",  \"year\":1934, \n",
    "    \"color\":['red','yellow','blue']\n",
    "    \n",
    "    }\n",
    "y=x[\"model\"]\n",
    "print(y)"
   ]
  },
  {
   "cell_type": "code",
   "execution_count": null,
   "id": "cb63a35e-3d34-4400-aa83-88820fe85344",
   "metadata": {},
   "outputs": [],
   "source": [
    "#There is also a method called get() that will give you the same result:"
   ]
  },
  {
   "cell_type": "code",
   "execution_count": 20,
   "id": "cea8a7c8-c08b-4731-a479-67d816d49b5d",
   "metadata": {},
   "outputs": [
    {
     "name": "stdout",
     "output_type": "stream",
     "text": [
      "mustang\n"
     ]
    }
   ],
   "source": [
    "x={\n",
    "    \"brand\" : \"ford\",\n",
    "    \"model\":\"mustang\",  \"year\":1934, \n",
    "    \"color\":['red','yellow','blue']\n",
    "    \n",
    "    }\n",
    "print(x.get(\"model\"))"
   ]
  },
  {
   "cell_type": "code",
   "execution_count": null,
   "id": "253e6c4e-92ec-4835-bc91-e8d0188b2aad",
   "metadata": {},
   "outputs": [],
   "source": [
    "#Get Keys\n",
    "The keys() method will return a list of all the keys in the dictionary."
   ]
  },
  {
   "cell_type": "code",
   "execution_count": 22,
   "id": "dd03e13d-4032-4bc1-a6eb-ce2165f2cbe0",
   "metadata": {},
   "outputs": [
    {
     "name": "stdout",
     "output_type": "stream",
     "text": [
      "dict_keys(['brand', 'model', 'year', 'color'])\n"
     ]
    }
   ],
   "source": [
    "x={\n",
    "    \"brand\" : \"ford\",\n",
    "    \"model\":\"mustang\",  \"year\":1934, \n",
    "    \"color\":['red','yellow','blue']\n",
    "    \n",
    "    }\n",
    "y=x.keys()\n",
    "print(y)"
   ]
  },
  {
   "cell_type": "code",
   "execution_count": null,
   "id": "cbd0ed24-ab56-49fb-a57d-37459ee91556",
   "metadata": {},
   "outputs": [],
   "source": [
    "# to get values \n"
   ]
  },
  {
   "cell_type": "code",
   "execution_count": 24,
   "id": "bdafb8d7-c681-4e6b-9277-ffeb63cbab37",
   "metadata": {},
   "outputs": [
    {
     "name": "stdout",
     "output_type": "stream",
     "text": [
      "dict_values(['ford', 'mustang', 1934, ['red', 'yellow', 'blue']])\n"
     ]
    }
   ],
   "source": [
    "y=x.values()\n",
    "print(y)"
   ]
  },
  {
   "cell_type": "code",
   "execution_count": 26,
   "id": "325cdee2-101e-400b-ad87-cb88a4ff8b18",
   "metadata": {},
   "outputs": [
    {
     "name": "stdout",
     "output_type": "stream",
     "text": [
      "{'brand': 'ford', 'model': 'mustang', 'year': 2190, 'color': ['red', 'yellow', 'blue']}\n"
     ]
    }
   ],
   "source": [
    "# change values \n",
    "#You can change the value of a specific item by referring to its key name\n",
    "x[\"year\"]=2190\n",
    "print(x)"
   ]
  },
  {
   "cell_type": "code",
   "execution_count": null,
   "id": "cbaaf44c-6441-4de4-ab5d-3698ad405cc6",
   "metadata": {},
   "outputs": [],
   "source": [
    "Update Dictionary\n",
    "The update() method will update the dictionary with the items from the given argument.\n",
    "\n",
    "The argument must be a dictionary, or an iterable object with key:value pairs."
   ]
  },
  {
   "cell_type": "code",
   "execution_count": 28,
   "id": "e55981b6-5bd0-4c0a-a2bf-08cdd65aacac",
   "metadata": {},
   "outputs": [
    {
     "name": "stdout",
     "output_type": "stream",
     "text": [
      "{'brand': 'ford', 'model': 'mustang', 'year': 2346, 'color': ['red', 'yellow', 'blue']}\n"
     ]
    }
   ],
   "source": [
    "x.update({\"year\":2346})\n",
    "print(x)"
   ]
  },
  {
   "cell_type": "code",
   "execution_count": null,
   "id": "1eadc6f2-2d17-45ca-a7d5-4e022ef90ddd",
   "metadata": {},
   "outputs": [],
   "source": [
    "Adding Items\n",
    "Adding an item to the dictionary is done by using a new index key and assigning a value to it:"
   ]
  },
  {
   "cell_type": "code",
   "execution_count": 30,
   "id": "5a3f2bb2-b9b7-4e30-9e08-392426009606",
   "metadata": {},
   "outputs": [
    {
     "name": "stdout",
     "output_type": "stream",
     "text": [
      "{'brand': 'ford', 'model': 'mustang', 'year': 2346, 'color': ['red', 'yellow', 'blue'], 'phone': 'vivo'}\n"
     ]
    }
   ],
   "source": [
    "x[\"phone\"]=\"vivo\"\n",
    "print(x)"
   ]
  },
  {
   "cell_type": "code",
   "execution_count": 34,
   "id": "5a163b52-d8ea-4c2c-ab5b-d84457c1792f",
   "metadata": {},
   "outputs": [
    {
     "data": {
      "text/plain": [
       "{'brand': 'ford',\n",
       " 'model': 'mustang',\n",
       " 'year': 2346,\n",
       " 'color': ['red', 'yellow', 'blue'],\n",
       " 'phone': 'vivo',\n",
       " 'land': 430534090}"
      ]
     },
     "execution_count": 34,
     "metadata": {},
     "output_type": "execute_result"
    }
   ],
   "source": [
    "x[\"land\"]=430534090\n",
    "x"
   ]
  },
  {
   "cell_type": "code",
   "execution_count": 36,
   "id": "3fca6e1d-1932-4714-bc38-9b90acae8120",
   "metadata": {},
   "outputs": [
    {
     "data": {
      "text/plain": [
       "{'brand': 'ford',\n",
       " 'model': 'mustang',\n",
       " 'year': 2346,\n",
       " 'color': ['red', 'yellow', 'blue'],\n",
       " 'phone': 'vivo',\n",
       " 'land': 430534090,\n",
       " 'sjdkn': 'kjsdc'}"
      ]
     },
     "execution_count": 36,
     "metadata": {},
     "output_type": "execute_result"
    }
   ],
   "source": [
    "x.update({\"sjdkn\":\"kjsdc\"})\n",
    "x"
   ]
  },
  {
   "cell_type": "code",
   "execution_count": null,
   "id": "966e4895-5a63-4c5b-b3e0-3bed29d1262b",
   "metadata": {},
   "outputs": [],
   "source": [
    "#Removing Items\n",
    "There are several methods to remove items from a dictionary:"
   ]
  },
  {
   "cell_type": "code",
   "execution_count": null,
   "id": "33209b18-f039-4b48-bab4-1ae94bd54395",
   "metadata": {},
   "outputs": [],
   "source": [
    "The pop() method removes the item with the specified key name:\n"
   ]
  },
  {
   "cell_type": "code",
   "execution_count": 38,
   "id": "d24d2cf2-57fc-44d8-817c-1b86964c1914",
   "metadata": {},
   "outputs": [
    {
     "data": {
      "text/plain": [
       "{'brand': 'ford',\n",
       " 'model': 'mustang',\n",
       " 'color': ['red', 'yellow', 'blue'],\n",
       " 'phone': 'vivo',\n",
       " 'land': 430534090,\n",
       " 'sjdkn': 'kjsdc'}"
      ]
     },
     "execution_count": 38,
     "metadata": {},
     "output_type": "execute_result"
    }
   ],
   "source": [
    "x.pop(\"year\")\n",
    "x"
   ]
  },
  {
   "cell_type": "code",
   "execution_count": 40,
   "id": "b735d10b-366c-4a72-9bff-eb367482e7a6",
   "metadata": {},
   "outputs": [
    {
     "data": {
      "text/plain": [
       "{'brand': 'ford',\n",
       " 'color': ['red', 'yellow', 'blue'],\n",
       " 'phone': 'vivo',\n",
       " 'land': 430534090,\n",
       " 'sjdkn': 'kjsdc'}"
      ]
     },
     "execution_count": 40,
     "metadata": {},
     "output_type": "execute_result"
    }
   ],
   "source": [
    "# The del keyword removes the item with the specified key name:\n",
    "del x[\"model\"]\n",
    "x"
   ]
  },
  {
   "cell_type": "code",
   "execution_count": 42,
   "id": "be6920af-54f8-4f8c-afd1-beb55fb1a2e0",
   "metadata": {},
   "outputs": [],
   "source": [
    "del x"
   ]
  },
  {
   "cell_type": "code",
   "execution_count": null,
   "id": "13f87607-0de1-4571-9e72-28fe13996bb1",
   "metadata": {},
   "outputs": [],
   "source": [
    "pyhton loop ing \n"
   ]
  },
  {
   "cell_type": "code",
   "execution_count": 46,
   "id": "17a4ee05-39a0-4357-a65f-802657356624",
   "metadata": {},
   "outputs": [
    {
     "name": "stdout",
     "output_type": "stream",
     "text": [
      "pen\n",
      "phone\n",
      "bike\n"
     ]
    }
   ],
   "source": [
    "x={\"pen\":10,\"phone\":20000,\"bike\":\"2l\"}\n",
    "for i in x:\n",
    "    print(i)"
   ]
  },
  {
   "cell_type": "code",
   "execution_count": null,
   "id": "9ffcc020-b487-40d8-96dc-4194603c32ef",
   "metadata": {},
   "outputs": [],
   "source": [
    "Print all values in the dictionary, one by one:"
   ]
  },
  {
   "cell_type": "code",
   "execution_count": 48,
   "id": "ec4c1261-ab87-4965-be95-b74f800b4b7d",
   "metadata": {},
   "outputs": [
    {
     "name": "stdout",
     "output_type": "stream",
     "text": [
      "10\n",
      "20000\n",
      "2l\n"
     ]
    }
   ],
   "source": [
    "for i in x:\n",
    "    print(x[i])"
   ]
  },
  {
   "cell_type": "code",
   "execution_count": 50,
   "id": "aba1eecd-ab38-4316-84e9-477177c43986",
   "metadata": {},
   "outputs": [
    {
     "name": "stdout",
     "output_type": "stream",
     "text": [
      "10\n",
      "20000\n",
      "2l\n"
     ]
    }
   ],
   "source": [
    "for i in x.values():\n",
    "    print(i)"
   ]
  },
  {
   "cell_type": "code",
   "execution_count": 52,
   "id": "9ac75dc2-5bb9-4e26-9325-c63bcc5ad623",
   "metadata": {},
   "outputs": [
    {
     "name": "stdout",
     "output_type": "stream",
     "text": [
      "pen\n",
      "phone\n",
      "bike\n"
     ]
    }
   ],
   "source": [
    "for i in x.keys():\n",
    "    print(i)"
   ]
  },
  {
   "cell_type": "code",
   "execution_count": 56,
   "id": "7f961ef9-5b8f-4e56-8609-5210dfdbd3d9",
   "metadata": {},
   "outputs": [
    {
     "ename": "SyntaxError",
     "evalue": "invalid syntax (1848739191.py, line 1)",
     "output_type": "error",
     "traceback": [
      "\u001b[1;36m  Cell \u001b[1;32mIn[56], line 1\u001b[1;36m\u001b[0m\n\u001b[1;33m    Python - Copy Dictionaries\u001b[0m\n\u001b[1;37m                  ^\u001b[0m\n\u001b[1;31mSyntaxError\u001b[0m\u001b[1;31m:\u001b[0m invalid syntax\n"
     ]
    }
   ],
   "source": [
    "Python - Copy Dictionaries\n",
    "y=x.copy()\n",
    "y"
   ]
  },
  {
   "cell_type": "code",
   "execution_count": 58,
   "id": "0a3388e8-065c-4ca3-a596-28353c696687",
   "metadata": {},
   "outputs": [
    {
     "data": {
      "text/plain": [
       "{'pen': 10, 'phone': 20000, 'bike': '2l'}"
      ]
     },
     "execution_count": 58,
     "metadata": {},
     "output_type": "execute_result"
    }
   ],
   "source": [
    "y=dict(x)\n",
    "y"
   ]
  },
  {
   "cell_type": "code",
   "execution_count": null,
   "id": "b2dddab1-f86d-4711-ad94-73bad5ecdcc2",
   "metadata": {},
   "outputs": [],
   "source": [
    "Method\tDescription\n",
    "clear()\tRemoves all the elements from the dictionary\n",
    "copy()\tReturns a copy of the dictionary\n",
    "fromkeys()\tReturns a dictionary with the specified keys and value\n",
    "get()\tReturns the value of the specified key\n",
    "items()\tReturns a list containing a tuple for each key value pair\n",
    "keys()\tReturns a list containing the dictionary's keys\n",
    "pop()\tRemoves the element with the specified key\n",
    "popitem()\tRemoves the last inserted key-value pair\n",
    "setdefault()\tReturns the value of the specified key. If the key does not exist: insert the key, with the specified value\n",
    "update()\tUpdates the dictionary with the specified key-value pairs\n",
    "values()\tReturns a list of all the values in the dictionary"
   ]
  }
 ],
 "metadata": {
  "kernelspec": {
   "display_name": "Python [conda env:base] *",
   "language": "python",
   "name": "conda-base-py"
  },
  "language_info": {
   "codemirror_mode": {
    "name": "ipython",
    "version": 3
   },
   "file_extension": ".py",
   "mimetype": "text/x-python",
   "name": "python",
   "nbconvert_exporter": "python",
   "pygments_lexer": "ipython3",
   "version": "3.12.7"
  }
 },
 "nbformat": 4,
 "nbformat_minor": 5
}
